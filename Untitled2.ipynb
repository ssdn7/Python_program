{
 "cells": [
  {
   "cell_type": "code",
   "execution_count": 2,
   "id": "8e6f0ef9",
   "metadata": {},
   "outputs": [
    {
     "ename": "SyntaxError",
     "evalue": "invalid character '“' (U+201C) (2887419984.py, line 6)",
     "output_type": "error",
     "traceback": [
      "\u001b[1;36m  Cell \u001b[1;32mIn[2], line 6\u001b[1;36m\u001b[0m\n\u001b[1;33m    user_input = input(“Enter any word you want to reverse: ”)\u001b[0m\n\u001b[1;37m                       ^\u001b[0m\n\u001b[1;31mSyntaxError\u001b[0m\u001b[1;31m:\u001b[0m invalid character '“' (U+201C)\n"
     ]
    }
   ],
   "source": [
    "def reverse_string(string):\n",
    "    if not string:\n",
    "        return \" \"\n",
    "    else:\n",
    "        return reverse_string(string[1:]) + string[0]\n",
    "user_input = input(“Enter any word you want to reverse: ”)\n",
    "user_input = reverse_string(string)\n",
    "print(user_input)"
   ]
  },
  {
   "cell_type": "code",
   "execution_count": 8,
   "id": "11e6f55f",
   "metadata": {},
   "outputs": [],
   "source": [
    "def reverse_string(string):\n",
    "    if not string:\n",
    "        return \" \"\n",
    "    else: \n",
    "        return reverse_string(string[1:]) + string[0]\n",
    "    reverse_string(string) == input(\"Enter any word you want to reverse: \")\n",
    "    print(reverse_string(string))"
   ]
  },
  {
   "cell_type": "code",
   "execution_count": 7,
   "id": "99598ed8",
   "metadata": {},
   "outputs": [
    {
     "ename": "IndentationError",
     "evalue": "unindent does not match any outer indentation level (<tokenize>, line 19)",
     "output_type": "error",
     "traceback": [
      "\u001b[1;36m  File \u001b[1;32m<tokenize>:19\u001b[1;36m\u001b[0m\n\u001b[1;33m    return quicksort(less) + [pivot] + quicksort(greater)\u001b[0m\n\u001b[1;37m    ^\u001b[0m\n\u001b[1;31mIndentationError\u001b[0m\u001b[1;31m:\u001b[0m unindent does not match any outer indentation level\n"
     ]
    }
   ],
   "source": [
    "def quicksort(array):\n",
    "    \"\"\"\n",
    "      Sorts a list of numbers using the quicksort algorithm.\n",
    "\n",
    "      Args:\n",
    "        array: A list of numbers.\n",
    "\n",
    "      Returns:\n",
    "        A sorted list of numbers.\n",
    "      \"\"\"\n",
    "if len(array) <= 1:\n",
    "    return array\n",
    "\n",
    "      pivot = array[0]\n",
    "    \n",
    "    less= [x for x in array[1:] if x < pivot]\n",
    "      greater = [x for x in array[1:] if x >= pivot]\n",
    "\n",
    "  return quicksort(less) + [pivot] + quicksort(greater)\n",
    "\n",
    "# Example usage:\n",
    "\n",
    "array = [5, 3, 2, 1, 4]\n",
    "\n",
    "sorted_array = quicksort(array)\n",
    "\n",
    "print(sorted_array)"
   ]
  },
  {
   "cell_type": "code",
   "execution_count": 17,
   "id": "0862e7af",
   "metadata": {},
   "outputs": [
    {
     "name": "stdout",
     "output_type": "stream",
     "text": [
      " yllaeR\n"
     ]
    }
   ],
   "source": [
    "def reverse_string(string):\n",
    "    if not string:\n",
    "        return \" \"\n",
    "    else: \n",
    "        return reverse_string(string[1:]) + string[0]\n",
    "print(reverse_string(\"Really\"))"
   ]
  },
  {
   "cell_type": "code",
   "execution_count": null,
   "id": "07cb10a4",
   "metadata": {},
   "outputs": [],
   "source": []
  }
 ],
 "metadata": {
  "kernelspec": {
   "display_name": "Python 3 (ipykernel)",
   "language": "python",
   "name": "python3"
  },
  "language_info": {
   "codemirror_mode": {
    "name": "ipython",
    "version": 3
   },
   "file_extension": ".py",
   "mimetype": "text/x-python",
   "name": "python",
   "nbconvert_exporter": "python",
   "pygments_lexer": "ipython3",
   "version": "3.11.3"
  }
 },
 "nbformat": 4,
 "nbformat_minor": 5
}

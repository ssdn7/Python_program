{
 "cells": [
  {
   "cell_type": "code",
   "execution_count": 1,
   "id": "02b3fb9d",
   "metadata": {},
   "outputs": [
    {
     "name": "stdout",
     "output_type": "stream",
     "text": [
      "Enter x, y coordinates: 0 9\n",
      "It does not lie in any quadrant.\n"
     ]
    }
   ],
   "source": [
    "x, y =input(\"Enter x, y coordinates: \").split()\n",
    "x=int(x)\n",
    "y=int(y)\n",
    "if(x==0 and y==0): \n",
    "    print(\"In the origin of a coordinate system\")\n",
    "elif(x>0 and y>0): \n",
    "    print(\"In the one quadrant\")\n",
    "elif(x<0 and y>0): \n",
    "    print(\"In the second quadrant\")\n",
    "elif(x<0 and y<0): \n",
    "    print(\"In the third quadrant\")\n",
    "elif(x>0 and y<0): \n",
    "    print(\"In the fourth quadrant\")\n",
    "else: \n",
    "    print(\"It does not lie in any quadrant.\")"
   ]
  },
  {
   "cell_type": "code",
   "execution_count": null,
   "id": "cd2f9218",
   "metadata": {},
   "outputs": [],
   "source": []
  }
 ],
 "metadata": {
  "kernelspec": {
   "display_name": "Python 3 (ipykernel)",
   "language": "python",
   "name": "python3"
  },
  "language_info": {
   "codemirror_mode": {
    "name": "ipython",
    "version": 3
   },
   "file_extension": ".py",
   "mimetype": "text/x-python",
   "name": "python",
   "nbconvert_exporter": "python",
   "pygments_lexer": "ipython3",
   "version": "3.11.3"
  }
 },
 "nbformat": 4,
 "nbformat_minor": 5
}

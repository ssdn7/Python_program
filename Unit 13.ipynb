{
 "cells": [
  {
   "cell_type": "code",
   "execution_count": 2,
   "id": "30f2d9a7",
   "metadata": {},
   "outputs": [
    {
     "name": "stdout",
     "output_type": "stream",
     "text": [
      "1 \n",
      "0 \n",
      "1 \n",
      "1 \n",
      "1 \n",
      "1 \n",
      "The number of remaining seats in the theater: 1\n",
      "1 \n",
      "1 \n",
      "0 \n",
      "0 \n",
      "0 \n",
      "0 \n",
      "The number of remaining seats in the theater: 5\n",
      "0 \n",
      "0 \n",
      "1 \n",
      "0 \n",
      "0 \n",
      "0 \n",
      "The number of remaining seats in the theater: 10\n"
     ]
    }
   ],
   "source": [
    "import random\n",
    "\n",
    "seat = []\n",
    "for i in range(3):    #Randomly input occupied/unoccupied seats\n",
    "    line = []\n",
    "    for j in range(6):\n",
    "        rand = random.randrange(0, 2) #Use random number of 0 and 1 \n",
    "        line.append(rand)\n",
    "    seat.append(line)\n",
    "    \n",
    "available = 0\n",
    "\n",
    "for i in range(3):  #print the seats and calculate the number of remaining seats\n",
    "    for j in range(6): \n",
    "        print(seat[i][j], '', end= '')\n",
    "        if seat[i][j] == 0:\n",
    "            available += 1\n",
    "        print()\n",
    "    print('The number of remaining seats in the theater:', available)"
   ]
  },
  {
   "cell_type": "code",
   "execution_count": 3,
   "id": "1d311772",
   "metadata": {},
   "outputs": [
    {
     "data": {
      "text/plain": [
       "[4, 5, 6]"
      ]
     },
     "execution_count": 3,
     "metadata": {},
     "output_type": "execute_result"
    }
   ],
   "source": [
    "list_array = [[1, 2, 3], [4, 5, 6], [7, 8, 9]]\n",
    "list_array[1]"
   ]
  },
  {
   "cell_type": "code",
   "execution_count": 4,
   "id": "78031565",
   "metadata": {},
   "outputs": [
    {
     "ename": "IndexError",
     "evalue": "list index out of range",
     "output_type": "error",
     "traceback": [
      "\u001b[1;31m---------------------------------------------------------------------------\u001b[0m",
      "\u001b[1;31mIndexError\u001b[0m                                Traceback (most recent call last)",
      "Cell \u001b[1;32mIn[4], line 2\u001b[0m\n\u001b[0;32m      1\u001b[0m list_array \u001b[38;5;241m=\u001b[39m [[\u001b[38;5;241m1\u001b[39m, \u001b[38;5;241m2\u001b[39m, \u001b[38;5;241m3\u001b[39m], [\u001b[38;5;241m4\u001b[39m, \u001b[38;5;241m5\u001b[39m, \u001b[38;5;241m6\u001b[39m], [\u001b[38;5;241m7\u001b[39m, \u001b[38;5;241m8\u001b[39m, \u001b[38;5;241m9\u001b[39m]]\n\u001b[1;32m----> 2\u001b[0m list_array[\u001b[38;5;241m1\u001b[39m][\u001b[38;5;241m6\u001b[39m]\n",
      "\u001b[1;31mIndexError\u001b[0m: list index out of range"
     ]
    }
   ],
   "source": [
    "list_array = [[1, 2, 3], [4, 5, 6], [7, 8, 9]]\n",
    "list_array[1][6]"
   ]
  },
  {
   "cell_type": "code",
   "execution_count": 7,
   "id": "c0f0104e",
   "metadata": {},
   "outputs": [
    {
     "data": {
      "text/plain": [
       "2"
      ]
     },
     "execution_count": 7,
     "metadata": {},
     "output_type": "execute_result"
    }
   ],
   "source": [
    "list_array = [[1, 2, 3], [4, 5, 6], [7, 8, 9]]\n",
    "list_array[0][1]"
   ]
  },
  {
   "cell_type": "code",
   "execution_count": 8,
   "id": "2d16df92",
   "metadata": {},
   "outputs": [
    {
     "name": "stdout",
     "output_type": "stream",
     "text": [
      "item:  [1, 2, 3]\n",
      "item:  [4, 5, 6]\n",
      "item:  [7, 8, 9]\n"
     ]
    }
   ],
   "source": [
    "list_array = [[1, 2, 3], [4, 5, 6], [7, 8, 9]]\n",
    "for item in list_array:\n",
    "    print('item: ', item)"
   ]
  },
  {
   "cell_type": "code",
   "execution_count": 9,
   "id": "360a850d",
   "metadata": {},
   "outputs": [
    {
     "name": "stdout",
     "output_type": "stream",
     "text": [
      "1 2 3\n",
      "4 5 6\n",
      "7 8 9\n"
     ]
    }
   ],
   "source": [
    "list_array = [[1, 2, 3], [4, 5, 6], [7, 8, 9]]\n",
    "for i, j, k in list_array:\n",
    "    print(i, j, k)"
   ]
  },
  {
   "cell_type": "code",
   "execution_count": 12,
   "id": "c45854fb",
   "metadata": {},
   "outputs": [
    {
     "name": "stdout",
     "output_type": "stream",
     "text": [
      "1 2 3 \n",
      "4 5 \n",
      "7 \n"
     ]
    }
   ],
   "source": [
    "list_array = [[1, 2, 3], [4, 5], [7]]\n",
    "for i in list_array:\n",
    "    for j in i:\n",
    "        print(j, end = ' ')\n",
    "    print()"
   ]
  },
  {
   "cell_type": "code",
   "execution_count": 16,
   "id": "f2fd96a7",
   "metadata": {},
   "outputs": [
    {
     "name": "stdout",
     "output_type": "stream",
     "text": [
      "hello my name is sodana\n",
      "\n"
     ]
    }
   ],
   "source": [
    "f = open('hello.txt', 'r')\n",
    "s = f.read()\n",
    "print(s)\n",
    "f.close()"
   ]
  },
  {
   "cell_type": "code",
   "execution_count": null,
   "id": "311f0bb7",
   "metadata": {},
   "outputs": [],
   "source": []
  },
  {
   "cell_type": "code",
   "execution_count": null,
   "id": "000ae03e",
   "metadata": {},
   "outputs": [],
   "source": []
  }
 ],
 "metadata": {
  "kernelspec": {
   "display_name": "Python 3 (ipykernel)",
   "language": "python",
   "name": "python3"
  },
  "language_info": {
   "codemirror_mode": {
    "name": "ipython",
    "version": 3
   },
   "file_extension": ".py",
   "mimetype": "text/x-python",
   "name": "python",
   "nbconvert_exporter": "python",
   "pygments_lexer": "ipython3",
   "version": "3.11.3"
  }
 },
 "nbformat": 4,
 "nbformat_minor": 5
}

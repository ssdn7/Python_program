{
 "cells": [
  {
   "cell_type": "code",
   "execution_count": 2,
   "id": "1502073b",
   "metadata": {},
   "outputs": [
    {
     "name": "stdout",
     "output_type": "stream",
     "text": [
      "Which side will you attack?(Left, right, middle, top left, top right): 5\n",
      "Congrat! Offense succeeded.\n",
      "computer defense position:  left\n"
     ]
    }
   ],
   "source": [
    "import random\n",
    "\n",
    "n = random.randint(1, 5) \n",
    "if n == 1:\n",
    "    computer_choice = \"left\"\n",
    "elif n == 2:\n",
    "    computer_choice = \"middle\"\n",
    "elif n == 3:\n",
    "    computer_choice = \"right\"\n",
    "elif n == 4:\n",
    "    computer_choice = \"top left\"\n",
    "else :\n",
    "    computer_choice = \"top right\"\n",
    "    \n",
    "user_choice = input(\"Which side will you attack?(Left, right, middle, top left, top right): \")\n",
    "if computer_choice == user_choice:\n",
    "    print(\"offense failed\")\n",
    "else: \n",
    "    print(\"Congrat! Offense succeeded.\")\n",
    "print('computer defense position: ', computer_choice)"
   ]
  },
  {
   "cell_type": "code",
   "execution_count": 3,
   "id": "fc278a03",
   "metadata": {},
   "outputs": [
    {
     "name": "stdout",
     "output_type": "stream",
     "text": [
      "Enter number: 80\n",
      "Not accepted.\n"
     ]
    }
   ],
   "source": [
    "score = int(input(\"Enter number: \"))\n",
    "if score > 90:\n",
    "    print('Accepted')\n",
    "    print('Also recieve a scholarship')\n",
    "else: \n",
    "    print('Not accepted.')"
   ]
  },
  {
   "cell_type": "code",
   "execution_count": 4,
   "id": "7ad9bc1c",
   "metadata": {},
   "outputs": [
    {
     "name": "stdout",
     "output_type": "stream",
     "text": [
      "Enter number: 720\n",
      "Accepted\n",
      "Also recieve a scholarship\n"
     ]
    }
   ],
   "source": [
    "score = int(input(\"Enter number: \"))\n",
    "if score > 90:\n",
    "    print('Accepted')\n",
    "    print('Also recieve a scholarship')\n",
    "else: \n",
    "    print('Not accepted.')"
   ]
  },
  {
   "cell_type": "code",
   "execution_count": 5,
   "id": "d6292a13",
   "metadata": {},
   "outputs": [
    {
     "name": "stdout",
     "output_type": "stream",
     "text": [
      "Enter number: 10\n",
      "It is morning.\n"
     ]
    }
   ],
   "source": [
    "hour = int(input('Enter number: '))\n",
    "if hour < 12:\n",
    "    print('It is morning.')\n",
    "if hour >=12:\n",
    "    print('It is afternoon.')"
   ]
  },
  {
   "cell_type": "code",
   "execution_count": 6,
   "id": "53e50f78",
   "metadata": {},
   "outputs": [
    {
     "name": "stdout",
     "output_type": "stream",
     "text": [
      "Enter number: 12\n",
      "It is afternoon.\n"
     ]
    }
   ],
   "source": [
    "hour = int(input('Enter number: '))\n",
    "if hour < 12:\n",
    "    print('It is morning.')\n",
    "if hour >=12:\n",
    "    print('It is afternoon.')"
   ]
  },
  {
   "cell_type": "code",
   "execution_count": 7,
   "id": "5a6555de",
   "metadata": {},
   "outputs": [
    {
     "name": "stdout",
     "output_type": "stream",
     "text": [
      "Enter number: 13\n",
      "It is afternoon.\n"
     ]
    }
   ],
   "source": [
    "hour = int(input('Enter hour: '))\n",
    "if hour < 12:\n",
    "    print('It is morning.')\n",
    "if hour >=12:\n",
    "    print('It is afternoon.')"
   ]
  },
  {
   "cell_type": "code",
   "execution_count": 8,
   "id": "c1695629",
   "metadata": {},
   "outputs": [
    {
     "name": "stdout",
     "output_type": "stream",
     "text": [
      "It is afternoon\n"
     ]
    }
   ],
   "source": [
    "hour = 14 \n",
    "if hour < 12:\n",
    "    print('It is morning.')\n",
    "else: \n",
    "    print('It is afternoon')"
   ]
  },
  {
   "cell_type": "code",
   "execution_count": 9,
   "id": "df3c91de",
   "metadata": {},
   "outputs": [
    {
     "name": "stdout",
     "output_type": "stream",
     "text": [
      "Enter an integer: 0\n",
      "It is 0.\n"
     ]
    }
   ],
   "source": [
    "num = int(input(\"Enter an integer: \"))\n",
    "if num >= 0:\n",
    "    if num == 0:\n",
    "        print('It is 0.')\n",
    "    else: \n",
    "        print('It is positive.')\n",
    "else: \n",
    "    print('It is negative.')"
   ]
  },
  {
   "cell_type": "code",
   "execution_count": 10,
   "id": "4648c62c",
   "metadata": {},
   "outputs": [
    {
     "name": "stdout",
     "output_type": "stream",
     "text": [
      "Enter an integer: -20\n",
      "It is negative.\n"
     ]
    }
   ],
   "source": [
    "num = int(input(\"Enter an integer: \"))\n",
    "if num >= 0:\n",
    "    if num == 0:\n",
    "        print('It is 0.')\n",
    "    else: \n",
    "        print('It is positive.')\n",
    "else: \n",
    "    print('It is negative.')"
   ]
  },
  {
   "cell_type": "code",
   "execution_count": 11,
   "id": "8cada1e5",
   "metadata": {},
   "outputs": [
    {
     "name": "stdout",
     "output_type": "stream",
     "text": [
      "Enter an integer: 20\n",
      "It is positive.\n"
     ]
    }
   ],
   "source": [
    "num = int(input(\"Enter an integer: \"))\n",
    "if num >= 0:\n",
    "    if num == 0:\n",
    "        print('It is 0.')\n",
    "    else: \n",
    "        print('It is positive.')\n",
    "else: \n",
    "    print('It is negative.')"
   ]
  },
  {
   "cell_type": "code",
   "execution_count": 12,
   "id": "0130f125",
   "metadata": {},
   "outputs": [
    {
     "name": "stdout",
     "output_type": "stream",
     "text": [
      "Enter score: 40\n",
      "Your grade is:  F\n"
     ]
    }
   ],
   "source": [
    "score = int(input(\"Enter score: \"))\n",
    "if score >= 90:\n",
    "    grade = 'A'\n",
    "if score < 90 and score >=80:\n",
    "    grade = 'B'\n",
    "if score < 80 and score >= 70:\n",
    "    grade = 'C'\n",
    "if score < 70 and score >= 60:\n",
    "    grade = 'D'\n",
    "if score < 60:\n",
    "    grade = 'F'\n",
    "print('Your grade is: ', grade)"
   ]
  },
  {
   "cell_type": "code",
   "execution_count": 22,
   "id": "1d492ae2",
   "metadata": {},
   "outputs": [
    {
     "name": "stdout",
     "output_type": "stream",
     "text": [
      "This is David fruit shop.\n",
      "Enter item number: 3\n",
      "fruit selected: \n",
      "Melon\n",
      "8000 won\n",
      "Enter number of item between 1~10: 3\n",
      "Quantity:  3\n"
     ]
    },
    {
     "data": {
      "text/plain": [
       "'if (tt.item>0 and tt.item<=10)'"
      ]
     },
     "execution_count": 22,
     "metadata": {},
     "output_type": "execute_result"
    }
   ],
   "source": [
    "print('This is David fruit shop.')\n",
    "item = int(input('Enter item number: '))\n",
    "print('fruit selected: ')\n",
    "if (item == 1):\n",
    "    print('Apple')\n",
    "    print(5000, 'won')\n",
    "elif (item == 2):\n",
    "    print('Grape')\n",
    "    print(6000, 'won')\n",
    "elif (item == 3):\n",
    "    print('Melon')\n",
    "    print(8000, 'won')\n",
    "else: \n",
    "    print('Orange')\n",
    "    print(2000, 'won')\n",
    "total = int(input('Enter number of item between 1~10: '))\n",
    "print('Quantity: ',total)"
   ]
  },
  {
   "cell_type": "code",
   "execution_count": 25,
   "id": "d7cb52c3",
   "metadata": {},
   "outputs": [
    {
     "name": "stdout",
     "output_type": "stream",
     "text": [
      "Enter the alphabet: k\n",
      "K is consonant\n"
     ]
    }
   ],
   "source": [
    "a = input('Enter the alphabet: ')\n",
    "if (a =='k'):\n",
    "    print('K is consonant')"
   ]
  },
  {
   "cell_type": "code",
   "execution_count": 26,
   "id": "1240bac1",
   "metadata": {},
   "outputs": [
    {
     "name": "stdout",
     "output_type": "stream",
     "text": [
      "Enter the alphabet: a\n"
     ]
    }
   ],
   "source": [
    "a = input('Enter the alphabet: ')\n",
    "if (a =='k'):\n",
    "    print('K is consonant')"
   ]
  },
  {
   "cell_type": "code",
   "execution_count": 28,
   "id": "13e3a1fa",
   "metadata": {},
   "outputs": [
    {
     "name": "stdout",
     "output_type": "stream",
     "text": [
      "Enter the alphabet: k\n",
      "k is consonant\n"
     ]
    }
   ],
   "source": [
    "alp = input('Enter the alphabet: ')\n",
    "if ( alp == 'a' or alp == 'i' or alp == 'e' or alp =='u' or alp == 'o'):\n",
    "    print (alp, 'is vowel')\n",
    "else: \n",
    "    print(alp, 'is consonant')"
   ]
  },
  {
   "cell_type": "code",
   "execution_count": 37,
   "id": "86605b78",
   "metadata": {},
   "outputs": [
    {
     "name": "stdout",
     "output_type": "stream",
     "text": [
      "Write two integer: 90 3\n",
      "90 is multiple of 3\n"
     ]
    }
   ],
   "source": [
    "a, b = input('Write two integer: ').split()\n",
    "a = int(a)\n",
    "b = int(b)\n",
    "\n",
    "if (a%3==0):\n",
    "    print(a, 'is multiple of', b)"
   ]
  },
  {
   "cell_type": "code",
   "execution_count": 36,
   "id": "c4e77c04",
   "metadata": {},
   "outputs": [
    {
     "name": "stdout",
     "output_type": "stream",
     "text": [
      "Enter the ID: ilovepython\n",
      "Welcome.\n"
     ]
    }
   ],
   "source": [
    "id = \"ilovepython\"\n",
    "s = input(\"Enter the ID: \")\n",
    "if s == id: \n",
    "    print(\"Welcome.\")\n",
    "else: \n",
    "    print(\"ID not found.\")"
   ]
  },
  {
   "cell_type": "code",
   "execution_count": 39,
   "id": "9f7277ba",
   "metadata": {},
   "outputs": [
    {
     "name": "stdout",
     "output_type": "stream",
     "text": [
      "Enter ID: ilovemyself\n",
      "Enter Password: 12345678\n",
      "Welcome.\n"
     ]
    }
   ],
   "source": [
    "ID = 'ilovemyself'\n",
    "Pass = 12345678\n",
    "id= input(\"Enter ID: \")\n",
    "password= int(input('Enter Password: '))\n",
    "if (ID==id and password==Pass):\n",
    "    print('Welcome.')\n",
    "else: \n",
    "    print('sorry, you enter wrong ID or password.')"
   ]
  },
  {
   "cell_type": "code",
   "execution_count": 45,
   "id": "5fdc8134",
   "metadata": {},
   "outputs": [
    {
     "name": "stdout",
     "output_type": "stream",
     "text": [
      "Front\n"
     ]
    }
   ],
   "source": [
    "import random\n",
    "\n",
    "number = random.randrange(2)\n",
    "if (number==0):\n",
    "    print('Front')\n",
    "else: \n",
    "    print('Back')"
   ]
  },
  {
   "cell_type": "code",
   "execution_count": 46,
   "id": "103a5d23",
   "metadata": {},
   "outputs": [
    {
     "name": "stdout",
     "output_type": "stream",
     "text": [
      "Back\n"
     ]
    }
   ],
   "source": [
    "import random\n",
    "\n",
    "number = random.randrange(2)\n",
    "if (number==0):\n",
    "    print('Front')\n",
    "else: \n",
    "    print('Back')"
   ]
  },
  {
   "cell_type": "code",
   "execution_count": 50,
   "id": "6c198d8c",
   "metadata": {},
   "outputs": [
    {
     "name": "stdout",
     "output_type": "stream",
     "text": [
      "1) Addition 2) Subtraction 3)Multiplication 4)Division\n",
      "Enter the desire number of operation: 7\n",
      "Entered an incorrect number.\n"
     ]
    }
   ],
   "source": [
    "print('1) Addition 2) Subtraction 3)Multiplication 4)Division')\n",
    "Addition = 1 \n",
    "Subtraction = 2\n",
    "Multiplication = 3\n",
    "Division = 4\n",
    "x = int(input('Enter the desire number of operation: '))\n",
    "if (x<4 and x>0):\n",
    "    a, b = input('Enter two numbers for operation: ').split()\n",
    "    a = int(a)\n",
    "    b = int(b)\n",
    "    if (x==1):\n",
    "        print(a + b)\n",
    "    if (x==2):\n",
    "        print(a - b)\n",
    "    if (x==3):\n",
    "        print(a * b)\n",
    "    if (x==4):\n",
    "        print(a / b)\n",
    "else: \n",
    "    print('Entered an incorrect number.')"
   ]
  },
  {
   "cell_type": "code",
   "execution_count": 56,
   "id": "749581ec",
   "metadata": {},
   "outputs": [
    {
     "name": "stdout",
     "output_type": "stream",
     "text": [
      "1) Addition 2) Subtraction 3)Multiplication 4)Division\n",
      "Enter the desire number of operation: 7\n",
      "Entered an incorrect number.\n"
     ]
    }
   ],
   "source": [
    "print('1) Addition 2) Subtraction 3)Multiplication 4)Division')\n",
    "Addition = 1 \n",
    "Subtraction = 2\n",
    "Multiplication = 3\n",
    "Division = 4\n",
    "x = int(input('Enter the desire number of operation: '))\n",
    "if (x<5 and x>0):\n",
    "    a, b = input('Enter two numbers for operation: ').split()\n",
    "    a = int(a)\n",
    "    b = int(b)\n",
    "    if (x==1):\n",
    "        print(a, '+', b, '=', a+b)\n",
    "    if (x==2):\n",
    "        print(a, '-', b, '=', a-b)\n",
    "    if (x==3):\n",
    "        print(a, '*', b, '=', a*b)\n",
    "    if (x==4):\n",
    "        print(a, '/', b, '=', a/b)\n",
    "else: \n",
    "    print('Entered an incorrect number.')"
   ]
  },
  {
   "cell_type": "code",
   "execution_count": null,
   "id": "8c315bea",
   "metadata": {},
   "outputs": [],
   "source": []
  }
 ],
 "metadata": {
  "kernelspec": {
   "display_name": "Python 3 (ipykernel)",
   "language": "python",
   "name": "python3"
  },
  "language_info": {
   "codemirror_mode": {
    "name": "ipython",
    "version": 3
   },
   "file_extension": ".py",
   "mimetype": "text/x-python",
   "name": "python",
   "nbconvert_exporter": "python",
   "pygments_lexer": "ipython3",
   "version": "3.9.12"
  }
 },
 "nbformat": 4,
 "nbformat_minor": 5
}

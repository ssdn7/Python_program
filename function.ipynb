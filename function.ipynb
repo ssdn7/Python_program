{
 "cells": [
  {
   "cell_type": "code",
   "execution_count": 4,
   "id": "bf5c9b5b",
   "metadata": {},
   "outputs": [],
   "source": [
    "import string \n",
    "src_str = string.ascii_uppercase\n",
    "dst_str = src_str[3:] + src_str[:3]"
   ]
  },
  {
   "cell_type": "code",
   "execution_count": 6,
   "id": "468ae9f7",
   "metadata": {},
   "outputs": [
    {
     "name": "stdout",
     "output_type": "stream",
     "text": [
      "Enter a sentences: ATTACK TONIGHT \n",
      "Encrypted text : DWWDFN WRQLJKW \n"
     ]
    }
   ],
   "source": [
    "import string \n",
    "def cipher(a):\n",
    "    idx = src_str.index(a)\n",
    "    return dst_str[idx]\n",
    "src_str = string.ascii_uppercase\n",
    "dst_str = src_str[3:] + src_str[:3]\n",
    "\n",
    "src =input('Enter a sentences: ')\n",
    "print('Encrypted text : ', end= '')\n",
    "\n",
    "for ch in src: \n",
    "    if ch in src_str: \n",
    "        print(cipher(ch), end='')\n",
    "    else: \n",
    "        print(ch, end='')\n",
    "print()"
   ]
  },
  {
   "cell_type": "code",
   "execution_count": 7,
   "id": "90b036df",
   "metadata": {},
   "outputs": [
    {
     "name": "stdout",
     "output_type": "stream",
     "text": [
      "*********************\n"
     ]
    }
   ],
   "source": [
    "def print_star(): #Define a function to output an asterisk \n",
    "    print('*********************')\n",
    "    \n",
    "print_star()     #call a function to output an asterisk "
   ]
  },
  {
   "cell_type": "code",
   "execution_count": 8,
   "id": "c9b01cd8",
   "metadata": {},
   "outputs": [
    {
     "name": "stdout",
     "output_type": "stream",
     "text": [
      "**********************************\n",
      "**********************************\n",
      "**********************************\n",
      "**********************************\n",
      "**********************************\n",
      "**********************************\n"
     ]
    }
   ],
   "source": [
    "def print_star():\n",
    "    print('**********************************')\n",
    "    \n",
    "print_star()    #call a function to output an asterisk 1\n",
    "print_star()    #call a function to output an asterisk 2\n",
    "print_star()    #call a function to output an asterisk 3\n",
    "print_star()    #call a function to output an asterisk 4\n",
    "print_star()    #call a function to output an asterisk 5\n",
    "print_star()    #call a function to output an asterisk 6"
   ]
  },
  {
   "cell_type": "code",
   "execution_count": 11,
   "id": "4b787412",
   "metadata": {},
   "outputs": [
    {
     "name": "stdout",
     "output_type": "stream",
     "text": [
      "**********************************\n",
      "**********************************\n",
      "**********************************\n",
      "**********************************\n"
     ]
    }
   ],
   "source": [
    "def print_star(n):\n",
    "    for  _ in range(n):\n",
    "        print('**********************************')\n",
    "    \n",
    "print_star(4) "
   ]
  },
  {
   "cell_type": "code",
   "execution_count": 21,
   "id": "a63177f9",
   "metadata": {},
   "outputs": [
    {
     "name": "stdout",
     "output_type": "stream",
     "text": [
      "It prints Hello twice.\n",
      "Hello Hello \n",
      "It prints Hello 3 times.\n",
      "Hello Hello Hello \n",
      "It prints Hello 7 times.\n",
      "Hello Hello Hello Hello Hello Hello Hello \n"
     ]
    }
   ],
   "source": [
    "def print_hello(n):\n",
    "    print('Hello ' * n)\n",
    "\n",
    "print('It prints Hello twice.')\n",
    "print_hello(2)\n",
    "print('It prints Hello 3 times.')\n",
    "print_hello(3)\n",
    "print('It prints Hello 7 times.')\n",
    "print_hello(7)"
   ]
  },
  {
   "cell_type": "code",
   "execution_count": 13,
   "id": "099ad1d2",
   "metadata": {},
   "outputs": [
    {
     "name": "stdout",
     "output_type": "stream",
     "text": [
      "The sum of 10 and 20 is 30\n",
      "The sum of 100 and 200 is 300\n"
     ]
    }
   ],
   "source": [
    "def print_sum(a, b):\n",
    "    result = a + b \n",
    "    print('The sum of', a, 'and', b ,'is', result )\n",
    "    \n",
    "print_sum(10, 20)\n",
    "print_sum(100, 200)"
   ]
  },
  {
   "cell_type": "code",
   "execution_count": 14,
   "id": "8110eec1",
   "metadata": {},
   "outputs": [
    {
     "name": "stdout",
     "output_type": "stream",
     "text": [
      "Hello A !\n",
      "Hello B !\n",
      "Hello C !\n",
      "Hello James !\n",
      "Hello Thomas !\n"
     ]
    }
   ],
   "source": [
    "def greet(*names):\n",
    "    for name in names:\n",
    "        print('Hello', name, '!')\n",
    "    \n",
    "greet('A', 'B', 'C')\n",
    "greet('James', 'Thomas')"
   ]
  },
  {
   "cell_type": "code",
   "execution_count": 16,
   "id": "d82d986c",
   "metadata": {},
   "outputs": [
    {
     "name": "stdout",
     "output_type": "stream",
     "text": [
      "The number of arguments:  3\n",
      "Arguments:  (10, 20, 30)\n"
     ]
    }
   ],
   "source": [
    "def foo(*args):\n",
    "    print('The number of arguments: ', len(args))\n",
    "    print('Arguments: ', args)\n",
    "\n",
    "foo(10, 20, 30)"
   ]
  },
  {
   "cell_type": "code",
   "execution_count": 18,
   "id": "4b4435e8",
   "metadata": {},
   "outputs": [
    {
     "name": "stdout",
     "output_type": "stream",
     "text": [
      "div(4) = 2.0\n",
      "div(6, 3) = 2.0\n"
     ]
    }
   ],
   "source": [
    "def div(a, b = 2):\n",
    "    return a/b\n",
    "\n",
    "print('div(4) =', div(4))\n",
    "print('div(6, 3) =', div(6, 3))"
   ]
  },
  {
   "cell_type": "code",
   "execution_count": 23,
   "id": "f34482c6",
   "metadata": {},
   "outputs": [
    {
     "name": "stdout",
     "output_type": "stream",
     "text": [
      "Welcome.\n",
      "Welcome.\n"
     ]
    }
   ],
   "source": [
    "def my_greet(n):\n",
    "    print('Welcome.' * n)\n",
    "\n",
    "my_greet(1)\n",
    "my_greet(1)"
   ]
  },
  {
   "cell_type": "code",
   "execution_count": null,
   "id": "6634cb65",
   "metadata": {},
   "outputs": [],
   "source": []
  }
 ],
 "metadata": {
  "kernelspec": {
   "display_name": "Python 3 (ipykernel)",
   "language": "python",
   "name": "python3"
  },
  "language_info": {
   "codemirror_mode": {
    "name": "ipython",
    "version": 3
   },
   "file_extension": ".py",
   "mimetype": "text/x-python",
   "name": "python",
   "nbconvert_exporter": "python",
   "pygments_lexer": "ipython3",
   "version": "3.11.3"
  }
 },
 "nbformat": 4,
 "nbformat_minor": 5
}

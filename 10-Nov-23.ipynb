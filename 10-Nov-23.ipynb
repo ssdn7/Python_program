{
 "cells": [
  {
   "cell_type": "code",
   "execution_count": 7,
   "id": "3cc102cd",
   "metadata": {},
   "outputs": [
    {
     "name": "stdout",
     "output_type": "stream",
     "text": [
      "Input a sentences: the quick brown fox jumps over the lazy dog\n",
      "Input a word to search: the\n",
      "In S, the is appeared in 2 times. \n"
     ]
    }
   ],
   "source": [
    "def word_count(S, x):\n",
    "    count=0\n",
    "    for word in S:\n",
    "        if word == x: \n",
    "            count+=1\n",
    "    return count\n",
    "S= (input(\"Input a sentences: \").split())\n",
    "x=input(\"Input a word to search: \")\n",
    "count = word_count(S, x)\n",
    "print(f\"In S, {x} is appeared in {count} times. \")"
   ]
  },
  {
   "cell_type": "code",
   "execution_count": 3,
   "id": "b04ecaa2",
   "metadata": {},
   "outputs": [
    {
     "name": "stdout",
     "output_type": "stream",
     "text": [
      "Enter a sentence: This is a sentence with the word this repeated twice.\n",
      "Enter the word to be counted: this\n",
      "The word 'this' appears 10 times in the sentence.\n"
     ]
    }
   ],
   "source": [
    "def count_word(sentence, word):\n",
    "  count = 0\n",
    "  for word in sentence.split():\n",
    "    if word == word:\n",
    "      count += 1\n",
    "  return count\n",
    "\n",
    "\n",
    "# Get the sentence from the user.\n",
    "sentence = input(\"Enter a sentence: \")\n",
    "\n",
    "# Get the word to be counted from the user.\n",
    "word = input(\"Enter the word to be counted: \")\n",
    "\n",
    "# Count the number of times the word appears in the sentence.\n",
    "count = count_word(sentence, word)\n",
    "\n",
    "# Print the result to the user.\n",
    "print(f\"The word '{word}' appears {count} times in the sentence.\")\n"
   ]
  },
  {
   "cell_type": "code",
   "execution_count": 4,
   "id": "179eb316",
   "metadata": {},
   "outputs": [
    {
     "name": "stdout",
     "output_type": "stream",
     "text": [
      "Enter a sentence: this is me this is me\n",
      "Enter a word to count: this\n",
      "The word 'this' appears 2 times in the sentence.\n"
     ]
    }
   ],
   "source": [
    "def count_word(sentence, word):\n",
    "    words = sentence.split()\n",
    "    count = 0\n",
    "    for w in words:\n",
    "        if w == word:\n",
    "            count += 1\n",
    "    return count\n",
    "\n",
    "sentence = input(\"Enter a sentence: \")\n",
    "word = input(\"Enter a word to count: \")\n",
    "count = count_word(sentence, word)\n",
    "print(f\"The word '{word}' appears {count} times in the sentence.\")\n",
    "\n"
   ]
  },
  {
   "cell_type": "code",
   "execution_count": 12,
   "id": "5c2a6ac6",
   "metadata": {},
   "outputs": [
    {
     "name": "stdout",
     "output_type": "stream",
     "text": [
      "Input a number to insert: 70\n",
      "70 should be inserted at position 5.\n",
      "[10, 20, 40, 50, 60, 70, 80]\n"
     ]
    }
   ],
   "source": [
    "def search_insert_position(nums, x):\n",
    "    left, right = 0, len(nums) - 1\n",
    "    while left <= right:\n",
    "        mid = (left + right) // 2\n",
    "        if nums[mid] == x:\n",
    "            return mid\n",
    "        elif nums[mid] < x:\n",
    "            left = mid + 1\n",
    "        else:\n",
    "            right = mid - 1\n",
    "    return left\n",
    "nums=[10,20,40,50,60,80]\n",
    "x = int(input(\"Input a number to insert: \"))\n",
    "pos = search_insert_position(nums, x)\n",
    "print(f\"{x} should be inserted at position {pos}.\")\n",
    "nums.insert(pos, x)\n",
    "print(nums)"
   ]
  },
  {
   "cell_type": "code",
   "execution_count": 2,
   "id": "71da0525",
   "metadata": {},
   "outputs": [
    {
     "name": "stdout",
     "output_type": "stream",
     "text": [
      "Input a sentences: this is my dog and my dog so cute This \n",
      "Input a word to search: dog\n",
      "In S, dog is appeared in 2 times. \n"
     ]
    }
   ],
   "source": [
    "def word_count(S, x):\n",
    "    count=0\n",
    "    for word in S:\n",
    "        if word == x: \n",
    "            count+=1\n",
    "    return count\n",
    "S= (input(\"Input a sentences: \").split())\n",
    "x=input(\"Input a word to search: \")\n",
    "count = word_count(S, x)\n",
    "print(f\"In S, {x} is appeared in {count} times. \")"
   ]
  },
  {
   "cell_type": "code",
   "execution_count": 3,
   "id": "f7128e82",
   "metadata": {},
   "outputs": [
    {
     "name": "stdout",
     "output_type": "stream",
     "text": [
      "Input a number to insert: 30\n",
      "30 should be inserted at position 2.\n",
      "[10, 20, 30, 40, 50, 60, 80]\n"
     ]
    }
   ],
   "source": [
    "def search_insert_position(nums, x):\n",
    "    left, right = 0, len(nums) - 1\n",
    "    while left <= right:\n",
    "        mid = (left + right) // 2\n",
    "        if nums[mid] == x:\n",
    "            return mid\n",
    "        elif nums[mid] < x:\n",
    "            left = mid + 1\n",
    "        else:\n",
    "            right = mid - 1\n",
    "    return left\n",
    "nums=[10,20,40,50,60,80]\n",
    "x = int(input(\"Input a number to insert: \"))\n",
    "pos = search_insert_position(nums, x)\n",
    "print(f\"{x} should be inserted at position {pos}.\")\n",
    "nums.insert(pos, x)\n",
    "print(nums)"
   ]
  },
  {
   "cell_type": "code",
   "execution_count": null,
   "id": "8903069b",
   "metadata": {},
   "outputs": [],
   "source": []
  }
 ],
 "metadata": {
  "kernelspec": {
   "display_name": "Python 3 (ipykernel)",
   "language": "python",
   "name": "python3"
  },
  "language_info": {
   "codemirror_mode": {
    "name": "ipython",
    "version": 3
   },
   "file_extension": ".py",
   "mimetype": "text/x-python",
   "name": "python",
   "nbconvert_exporter": "python",
   "pygments_lexer": "ipython3",
   "version": "3.11.3"
  }
 },
 "nbformat": 4,
 "nbformat_minor": 5
}

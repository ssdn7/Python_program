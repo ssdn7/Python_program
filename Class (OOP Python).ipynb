{
 "cells": [
  {
   "cell_type": "code",
   "execution_count": 6,
   "id": "890125ff",
   "metadata": {},
   "outputs": [
    {
     "name": "stdout",
     "output_type": "stream",
     "text": [
      "The balance of Dana is account 1234-0001 is 0 won.\n",
      "2000 won has been deposited. The balance is 2000 won. \n",
      "The balance of Dana is account 1234-0001 is 2,000 won.\n",
      "The balance of Dana is account 1234-0001 is 1,500 won.\n"
     ]
    }
   ],
   "source": [
    "class BankAccount:\n",
    "    def __init__ (self, name, account_num, balance = 0):\n",
    "        self.name = name \n",
    "        self.account_num = account_num\n",
    "        self.balance = balance\n",
    "        \n",
    "    def get_name(): \n",
    "        return self.name\n",
    "    \n",
    "    def get_account_num():\n",
    "        return self.account_num\n",
    "    \n",
    "    def get_balance():\n",
    "        return self.balance\n",
    "    \n",
    "    def deposit(self, amount):\n",
    "        self.balance += amount\n",
    "        print('{} won has been deposited. The balance is {} won. '.format(amount, self.balance))\n",
    "        return self.balance\n",
    "    \n",
    "    def withdraw(self, amount):\n",
    "        if self.balance - amount > 0 :\n",
    "            self.balance -= amount \n",
    "        else: \n",
    "            print('The account balance is {} won. This is smaller than the requested amount of withdrawal''{} won.'.format(self.balance, amount))\n",
    "    def __str__(self):\n",
    "        return 'The balance of {} is account {} is {:,} won.'.format(self.name, self.account_num, self.balance)\n",
    "    \n",
    "account1 = BankAccount(\"Dana\", \"1234-0001\")\n",
    "print(account1)\n",
    "account1.deposit(2000)\n",
    "print(account1)\n",
    "account1.withdraw(500)\n",
    "print(account1)"
   ]
  },
  {
   "cell_type": "code",
   "execution_count": null,
   "id": "d0b39836",
   "metadata": {},
   "outputs": [],
   "source": []
  }
 ],
 "metadata": {
  "kernelspec": {
   "display_name": "Python 3 (ipykernel)",
   "language": "python",
   "name": "python3"
  },
  "language_info": {
   "codemirror_mode": {
    "name": "ipython",
    "version": 3
   },
   "file_extension": ".py",
   "mimetype": "text/x-python",
   "name": "python",
   "nbconvert_exporter": "python",
   "pygments_lexer": "ipython3",
   "version": "3.11.3"
  }
 },
 "nbformat": 4,
 "nbformat_minor": 5
}

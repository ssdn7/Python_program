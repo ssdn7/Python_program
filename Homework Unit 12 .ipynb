{
 "cells": [
  {
   "cell_type": "code",
   "execution_count": 3,
   "id": "5816a399",
   "metadata": {},
   "outputs": [
    {
     "name": "stdout",
     "output_type": "stream",
     "text": [
      "9\n"
     ]
    }
   ],
   "source": [
    "def most_frequent(nums):\n",
    "  \"\"\"\n",
    "  This function returns the element with the maximum number of occurrences.\n",
    "\n",
    "  Args:\n",
    "    nums: A list of numbers.\n",
    "\n",
    "  Returns:\n",
    "    The element with the maximum number of occurrences.\n",
    "  \"\"\"\n",
    "\n",
    "  counts = {}\n",
    "  for num in nums:\n",
    "    if num in counts:\n",
    "      counts[num] += 1\n",
    "    else:\n",
    "      counts[num] = 1\n",
    "\n",
    "  max_count = 0\n",
    "  max_num = None\n",
    "  for num, count in counts.items():\n",
    "    if count > max_count:\n",
    "      max_count = count\n",
    "      max_num = num\n",
    "\n",
    "  # If there are multiple elements with the maximum number of occurrences,\n",
    "  # return the highest number.\n",
    "\n",
    "  if max_count > 1:\n",
    "    return max(counts.keys())\n",
    "  else:\n",
    "    return max_num\n",
    "\n",
    "\n",
    "print(most_frequent((1, 2, 5, 4, 3, 2, 1, 4, 7, 8, 9, 9, 3, 7, 3, 9)))"
   ]
  },
  {
   "cell_type": "code",
   "execution_count": null,
   "id": "8ce916c7",
   "metadata": {},
   "outputs": [],
   "source": []
  },
  {
   "cell_type": "code",
   "execution_count": null,
   "id": "e473a99c",
   "metadata": {},
   "outputs": [],
   "source": []
  },
  {
   "cell_type": "code",
   "execution_count": null,
   "id": "354fe33e",
   "metadata": {},
   "outputs": [],
   "source": []
  }
 ],
 "metadata": {
  "kernelspec": {
   "display_name": "Python 3 (ipykernel)",
   "language": "python",
   "name": "python3"
  },
  "language_info": {
   "codemirror_mode": {
    "name": "ipython",
    "version": 3
   },
   "file_extension": ".py",
   "mimetype": "text/x-python",
   "name": "python",
   "nbconvert_exporter": "python",
   "pygments_lexer": "ipython3",
   "version": "3.11.3"
  }
 },
 "nbformat": 4,
 "nbformat_minor": 5
}

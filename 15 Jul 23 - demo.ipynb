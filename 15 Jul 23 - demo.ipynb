{
 "cells": [
  {
   "cell_type": "code",
   "execution_count": 12,
   "id": "4863ad7e",
   "metadata": {},
   "outputs": [
    {
     "name": "stdout",
     "output_type": "stream",
     "text": [
      "Enter a three-digit lottery number: 3 9 2\n",
      "You won the lottery!\n"
     ]
    }
   ],
   "source": [
    "n1, n2, n3 = 2, 3 ,9 \n",
    "\n",
    "n=0\n",
    "a, b, c = input('Enter a three-digit lottery number: ').split()\n",
    "a = int(a)\n",
    "b = int(b)\n",
    "c = int(c)\n",
    "\n",
    "if a == n1 or a == n2 or a ==n3: \n",
    "    n+=1\n",
    "if b == n1 or b == n2 or b ==n3: \n",
    "    n+=1\n",
    "if c == n1 or c == n2 or c ==n3: \n",
    "    n+=1\n",
    "    \n",
    "if n == 3:\n",
    "    print('You won the lottery!')"
   ]
  },
  {
   "cell_type": "code",
   "execution_count": 15,
   "id": "da7b19e3",
   "metadata": {},
   "outputs": [
    {
     "name": "stdout",
     "output_type": "stream",
     "text": [
      "Youth discount\n"
     ]
    }
   ],
   "source": [
    "age = 18 \n",
    "\n",
    "if age < 20:\n",
    "    print('Youth discount')"
   ]
  },
  {
   "cell_type": "code",
   "execution_count": 16,
   "id": "87ed639f",
   "metadata": {},
   "outputs": [
    {
     "ename": "IndentationError",
     "evalue": "expected an indented block (3153728888.py, line 4)",
     "output_type": "error",
     "traceback": [
      "\u001b[1;36m  Input \u001b[1;32mIn [16]\u001b[1;36m\u001b[0m\n\u001b[1;33m    print('Youth discount')\u001b[0m\n\u001b[1;37m    ^\u001b[0m\n\u001b[1;31mIndentationError\u001b[0m\u001b[1;31m:\u001b[0m expected an indented block\n"
     ]
    }
   ],
   "source": [
    "age = 18 \n",
    "\n",
    "if age < 20:\n",
    "print('Youth discount')"
   ]
  },
  {
   "cell_type": "code",
   "execution_count": 36,
   "id": "28584529",
   "metadata": {},
   "outputs": [
    {
     "name": "stdout",
     "output_type": "stream",
     "text": [
      "Enter number: 0\n",
      "Enter number: 6\n",
      "no root\n"
     ]
    }
   ],
   "source": [
    "a = int(input('Enter number: '))\n",
    "b = int(input('Enter number: '))\n",
    "if (a == 0):\n",
    "    print('no root')\n",
    "else: \n",
    "    x =-b/a\n",
    "    print('result', x)"
   ]
  },
  {
   "cell_type": "code",
   "execution_count": 38,
   "id": "a3ab612c",
   "metadata": {},
   "outputs": [],
   "source": [
    "def func():\n",
    "    func()\n",
    "    pass"
   ]
  },
  {
   "cell_type": "code",
   "execution_count": 39,
   "id": "c4f2ec4b",
   "metadata": {},
   "outputs": [
    {
     "ename": "IndentationError",
     "evalue": "expected an indented block (1887386830.py, line 3)",
     "output_type": "error",
     "traceback": [
      "\u001b[1;36m  Input \u001b[1;32mIn [39]\u001b[1;36m\u001b[0m\n\u001b[1;33m    func()\u001b[0m\n\u001b[1;37m    ^\u001b[0m\n\u001b[1;31mIndentationError\u001b[0m\u001b[1;31m:\u001b[0m expected an indented block\n"
     ]
    }
   ],
   "source": [
    "def func():\n",
    "    \n",
    "func()\n",
    "  "
   ]
  },
  {
   "cell_type": "code",
   "execution_count": 41,
   "id": "b4baa643",
   "metadata": {},
   "outputs": [
    {
     "name": "stdout",
     "output_type": "stream",
     "text": [
      "Enter game score: 100\n"
     ]
    }
   ],
   "source": [
    "a = int(input('Enter game score: '))\n",
    "if(a>=1000):\n",
    "    print('You are a master.')"
   ]
  },
  {
   "cell_type": "code",
   "execution_count": 45,
   "id": "05870da5",
   "metadata": {},
   "outputs": [
    {
     "name": "stdout",
     "output_type": "stream",
     "text": [
      "Enter game score: 1500\n",
      "game_score =  1500\n",
      "You are a master.\n"
     ]
    }
   ],
   "source": [
    "a = int(input('Enter game score: '))\n",
    "if(a>=1000):\n",
    "    print('game_score = ', a)\n",
    "    print('You are a master.')"
   ]
  },
  {
   "cell_type": "code",
   "execution_count": 47,
   "id": "56ead343",
   "metadata": {},
   "outputs": [
    {
     "name": "stdout",
     "output_type": "stream",
     "text": [
      "Enter game score: 200\n",
      "game_score =  200\n"
     ]
    }
   ],
   "source": [
    "a = int(input('Enter game score: '))\n",
    "print('game_score = ', a)\n",
    "if(a>=1000):\n",
    "    print('You are a master.')"
   ]
  },
  {
   "cell_type": "code",
   "execution_count": 49,
   "id": "fed368f0",
   "metadata": {},
   "outputs": [
    {
     "name": "stdout",
     "output_type": "stream",
     "text": [
      "Enter integer: 50\n",
      "x = 50\n",
      "50 is a natural number\n"
     ]
    }
   ],
   "source": [
    "x = int(input('Enter integer: '))\n",
    "print('x =', x)\n",
    "if (x>=0):\n",
    "    print(x, 'is a natural number')"
   ]
  },
  {
   "cell_type": "code",
   "execution_count": 50,
   "id": "788c0652",
   "metadata": {},
   "outputs": [
    {
     "name": "stdout",
     "output_type": "stream",
     "text": [
      "Enter integer: -100\n",
      "x = -100\n"
     ]
    }
   ],
   "source": [
    "x = int(input('Enter integer: '))\n",
    "print('x =', x)\n",
    "if (x>=0):\n",
    "    print(x, 'is a natural number')"
   ]
  },
  {
   "cell_type": "code",
   "execution_count": 52,
   "id": "5810749e",
   "metadata": {},
   "outputs": [
    {
     "name": "stdout",
     "output_type": "stream",
     "text": [
      "Enter integer: -100\n",
      "x = -100\n"
     ]
    }
   ],
   "source": [
    "x = int(input('Enter integer: '))\n",
    "print('x =', x)\n",
    "if (x>-100 and x<100):\n",
    "    print(x, 'is a natural number')"
   ]
  },
  {
   "cell_type": "code",
   "execution_count": 56,
   "id": "56c8689b",
   "metadata": {},
   "outputs": [
    {
     "name": "stdout",
     "output_type": "stream",
     "text": [
      "Enter integer: 100000\n",
      "x = 100000\n",
      "100000 is a natural number\n"
     ]
    }
   ],
   "source": [
    "x = int(input('Enter integer: '))\n",
    "print('x =', x)\n",
    "if (x>=0):\n",
    "    print(x, 'is a natural number')"
   ]
  },
  {
   "cell_type": "code",
   "execution_count": 59,
   "id": "66a1b34d",
   "metadata": {},
   "outputs": [
    {
     "name": "stdout",
     "output_type": "stream",
     "text": [
      "Enter three integers devided by space: 10 20 30 \n",
      "Input:  10 20 30 \n",
      "Input seperated by the split() method:  ['10', '20', '30']\n"
     ]
    }
   ],
   "source": [
    "str = input('Enter three integers devided by space: ')\n",
    "print('Input: ', str)\n",
    "print('Input seperated by the split() method: ', str.split())\n"
   ]
  },
  {
   "cell_type": "code",
   "execution_count": 61,
   "id": "165c056d",
   "metadata": {},
   "outputs": [
    {
     "name": "stdout",
     "output_type": "stream",
     "text": [
      "Enter three integers devided by space: 10, 20, 30\n",
      "Input:  10, 20, 30\n",
      "Input seperated by the split() method:  ['10,', '20,', '30']\n"
     ]
    }
   ],
   "source": [
    "str = input('Enter three integers devided by space: ')\n",
    "print('Input: ', str)\n",
    "print('Input seperated by the split() method: ', str.split())"
   ]
  },
  {
   "cell_type": "code",
   "execution_count": 63,
   "id": "9ba803e9",
   "metadata": {},
   "outputs": [
    {
     "name": "stdout",
     "output_type": "stream",
     "text": [
      "Enter three integers devided by space: 1.2.3\n",
      "Input:  1.2.3\n",
      "Input seperated by the split() method:  ['1', '2', '3']\n"
     ]
    }
   ],
   "source": [
    "str = input('Enter three integers devided by space: ')\n",
    "print('Input: ', str)\n",
    "print('Input seperated by the split() method: ', str.split('.'))"
   ]
  },
  {
   "cell_type": "code",
   "execution_count": 64,
   "id": "0495df9d",
   "metadata": {},
   "outputs": [
    {
     "name": "stdout",
     "output_type": "stream",
     "text": [
      "Enter three integers devided by space: 1, 2, 3\n",
      "Input:  1, 2, 3\n",
      "Input seperated by the split() method:  ['1, 2, 3']\n"
     ]
    }
   ],
   "source": [
    "str = input('Enter three integers devided by space: ')\n",
    "print('Input: ', str)\n",
    "print('Input seperated by the split() method: ', str.split('.'))"
   ]
  },
  {
   "cell_type": "code",
   "execution_count": 66,
   "id": "0a8b0224",
   "metadata": {},
   "outputs": [
    {
     "name": "stdout",
     "output_type": "stream",
     "text": [
      "Enter three integers seperated by ,: 2, 3, 6\n",
      "2 3 6\n"
     ]
    }
   ],
   "source": [
    "num1, num2, num3 = input('Enter three integers seperated by ,: ').split(',')\n",
    "num1, num2, num3 = int(num1), int(num2), int(num3)\n",
    "print(num1, num2, num3)"
   ]
  },
  {
   "cell_type": "code",
   "execution_count": 2,
   "id": "22cd50e0",
   "metadata": {},
   "outputs": [
    {
     "name": "stdout",
     "output_type": "stream",
     "text": [
      "Enter age: 3\n",
      "Kid\n"
     ]
    }
   ],
   "source": [
    "x = int(input('Enter age: '))\n",
    "if (x>20):\n",
    "    print('Adult')\n",
    "if (x<=20 and x>10):\n",
    "    print('Youth')\n",
    "if (x<10):\n",
    "    print('Kid')"
   ]
  },
  {
   "cell_type": "code",
   "execution_count": 4,
   "id": "60893360",
   "metadata": {},
   "outputs": [
    {
     "name": "stdout",
     "output_type": "stream",
     "text": [
      "Enter age: 10\n",
      "Youth\n"
     ]
    }
   ],
   "source": [
    "x = int(input('Enter age: '))\n",
    "if (x>20):\n",
    "    print('Adult')\n",
    "if (x<=20 and x>=10):\n",
    "    print('Youth')\n",
    "if (x<10):\n",
    "    print('Kid')"
   ]
  },
  {
   "cell_type": "code",
   "execution_count": null,
   "id": "74f1b449",
   "metadata": {},
   "outputs": [],
   "source": [
    "age = int(input('Enter age: '))\n",
    "if ( age>=20)"
   ]
  }
 ],
 "metadata": {
  "kernelspec": {
   "display_name": "Python 3 (ipykernel)",
   "language": "python",
   "name": "python3"
  },
  "language_info": {
   "codemirror_mode": {
    "name": "ipython",
    "version": 3
   },
   "file_extension": ".py",
   "mimetype": "text/x-python",
   "name": "python",
   "nbconvert_exporter": "python",
   "pygments_lexer": "ipython3",
   "version": "3.9.12"
  }
 },
 "nbformat": 4,
 "nbformat_minor": 5
}

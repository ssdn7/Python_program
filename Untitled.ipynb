{
 "cells": [
  {
   "cell_type": "code",
   "execution_count": 6,
   "id": "b2b528fd",
   "metadata": {},
   "outputs": [
    {
     "name": "stdout",
     "output_type": "stream",
     "text": [
      "dict_keys(['apple', 'melon', 'banana', 'Orange'])\n"
     ]
    },
    {
     "ename": "NameError",
     "evalue": "name 'fruit_dics' is not defined",
     "output_type": "error",
     "traceback": [
      "\u001b[1;31m---------------------------------------------------------------------------\u001b[0m",
      "\u001b[1;31mNameError\u001b[0m                                 Traceback (most recent call last)",
      "Cell \u001b[1;32mIn[6], line 7\u001b[0m\n\u001b[0;32m      4\u001b[0m \u001b[38;5;28mprint\u001b[39m(fruits_dic\u001b[38;5;241m.\u001b[39mkeys())\n\u001b[0;32m      6\u001b[0m \u001b[38;5;66;03m# Examine if the apple and mango keys are found in the fruits_dic\u001b[39;00m\n\u001b[1;32m----> 7\u001b[0m \u001b[38;5;28;01mif\u001b[39;00m \u001b[38;5;124m'\u001b[39m\u001b[38;5;124mapple\u001b[39m\u001b[38;5;124m'\u001b[39m\u001b[38;5;129;01min\u001b[39;00m fruit_dics:\n\u001b[0;32m      8\u001b[0m     \u001b[38;5;28mprint\u001b[39m(\u001b[38;5;124m'\u001b[39m\u001b[38;5;124mapple\u001b[39m\u001b[38;5;124m'\u001b[39m)\n\u001b[0;32m      9\u001b[0m \u001b[38;5;28mprint\u001b[39m(\u001b[38;5;124m'\u001b[39m\u001b[38;5;124mmango\u001b[39m\u001b[38;5;124m'\u001b[39m \u001b[38;5;129;01min\u001b[39;00m fruits_dic)\n",
      "\u001b[1;31mNameError\u001b[0m: name 'fruit_dics' is not defined"
     ]
    }
   ],
   "source": [
    "fruits_dic = {'apple': 6000, 'melon': 3000, 'banana': 5000, 'Orange': 4000}\n",
    "\n",
    "# Print all of the keys in the fruits_dic as list type\n",
    "print(fruits_dic.keys())\n",
    "\n",
    "# Examine if the apple and mango keys are found in the fruits_dic\n",
    "if 'apple' in fruit_dics:\n",
    "    print('apple')\n",
    "print('mango' in fruits_dic)"
   ]
  },
  {
   "cell_type": "code",
   "execution_count": null,
   "id": "adaf0d4a",
   "metadata": {},
   "outputs": [],
   "source": []
  }
 ],
 "metadata": {
  "kernelspec": {
   "display_name": "Python 3 (ipykernel)",
   "language": "python",
   "name": "python3"
  },
  "language_info": {
   "codemirror_mode": {
    "name": "ipython",
    "version": 3
   },
   "file_extension": ".py",
   "mimetype": "text/x-python",
   "name": "python",
   "nbconvert_exporter": "python",
   "pygments_lexer": "ipython3",
   "version": "3.11.3"
  }
 },
 "nbformat": 4,
 "nbformat_minor": 5
}

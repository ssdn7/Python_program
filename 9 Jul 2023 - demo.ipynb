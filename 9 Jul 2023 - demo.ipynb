{
 "cells": [
  {
   "cell_type": "code",
   "execution_count": 1,
   "id": "2e787f04",
   "metadata": {},
   "outputs": [
    {
     "name": "stdout",
     "output_type": "stream",
     "text": [
      "300\n"
     ]
    }
   ],
   "source": [
    "x, y = 100, 200\n",
    "result = x + y\n",
    "print(result)"
   ]
  },
  {
   "cell_type": "code",
   "execution_count": 2,
   "id": "36ce8ac8",
   "metadata": {},
   "outputs": [
    {
     "ename": "ValueError",
     "evalue": "too many values to unpack (expected 2)",
     "output_type": "error",
     "traceback": [
      "\u001b[1;31m---------------------------------------------------------------------------\u001b[0m",
      "\u001b[1;31mValueError\u001b[0m                                Traceback (most recent call last)",
      "Input \u001b[1;32mIn [2]\u001b[0m, in \u001b[0;36m<cell line: 1>\u001b[1;34m()\u001b[0m\n\u001b[1;32m----> 1\u001b[0m x, y \u001b[38;5;241m=\u001b[39m \u001b[38;5;241m100\u001b[39m, \u001b[38;5;241m200\u001b[39m, \u001b[38;5;241m300\u001b[39m\n\u001b[0;32m      2\u001b[0m result \u001b[38;5;241m=\u001b[39m x \u001b[38;5;241m+\u001b[39m y\n\u001b[0;32m      3\u001b[0m \u001b[38;5;28mprint\u001b[39m(result)\n",
      "\u001b[1;31mValueError\u001b[0m: too many values to unpack (expected 2)"
     ]
    }
   ],
   "source": [
    "x, y = 100, 200, 300\n",
    "result = x + y\n",
    "print(result)"
   ]
  },
  {
   "cell_type": "code",
   "execution_count": 3,
   "id": "0014281a",
   "metadata": {},
   "outputs": [
    {
     "name": "stdout",
     "output_type": "stream",
     "text": [
      "300\n"
     ]
    }
   ],
   "source": [
    "x, y, z = 100, 200, 300\n",
    "result = x + y\n",
    "print(result)"
   ]
  },
  {
   "cell_type": "code",
   "execution_count": 4,
   "id": "e5e72007",
   "metadata": {},
   "outputs": [
    {
     "ename": "ValueError",
     "evalue": "not enough values to unpack (expected 3, got 2)",
     "output_type": "error",
     "traceback": [
      "\u001b[1;31m---------------------------------------------------------------------------\u001b[0m",
      "\u001b[1;31mValueError\u001b[0m                                Traceback (most recent call last)",
      "Input \u001b[1;32mIn [4]\u001b[0m, in \u001b[0;36m<cell line: 1>\u001b[1;34m()\u001b[0m\n\u001b[1;32m----> 1\u001b[0m x, y, z \u001b[38;5;241m=\u001b[39m \u001b[38;5;241m100\u001b[39m, \u001b[38;5;241m200\u001b[39m\n\u001b[0;32m      2\u001b[0m result \u001b[38;5;241m=\u001b[39m x \u001b[38;5;241m+\u001b[39m y \u001b[38;5;241m+\u001b[39m z\n\u001b[0;32m      3\u001b[0m \u001b[38;5;28mprint\u001b[39m(result)\n",
      "\u001b[1;31mValueError\u001b[0m: not enough values to unpack (expected 3, got 2)"
     ]
    }
   ],
   "source": [
    "x, y, z = 100, 200\n",
    "result = x + y + z\n",
    "print(result)"
   ]
  },
  {
   "cell_type": "code",
   "execution_count": 5,
   "id": "ab7581a2",
   "metadata": {},
   "outputs": [
    {
     "name": "stdout",
     "output_type": "stream",
     "text": [
      "200 200\n"
     ]
    }
   ],
   "source": [
    "num1 = num2 = num3 = 200\n",
    "print(num1, num2)"
   ]
  },
  {
   "cell_type": "code",
   "execution_count": 6,
   "id": "4c9bd3f0",
   "metadata": {},
   "outputs": [
    {
     "data": {
      "text/plain": [
       "True"
      ]
     },
     "execution_count": 6,
     "metadata": {},
     "output_type": "execute_result"
    }
   ],
   "source": [
    "300 == 300\n"
   ]
  },
  {
   "cell_type": "code",
   "execution_count": 8,
   "id": "065337ff",
   "metadata": {},
   "outputs": [
    {
     "name": "stdout",
     "output_type": "stream",
     "text": [
      "300\n"
     ]
    }
   ],
   "source": [
    "num = 300\n",
    "print(num)"
   ]
  },
  {
   "cell_type": "code",
   "execution_count": 9,
   "id": "06d4669c",
   "metadata": {},
   "outputs": [
    {
     "ename": "NameError",
     "evalue": "name 'i' is not defined",
     "output_type": "error",
     "traceback": [
      "\u001b[1;31m---------------------------------------------------------------------------\u001b[0m",
      "\u001b[1;31mNameError\u001b[0m                                 Traceback (most recent call last)",
      "Input \u001b[1;32mIn [9]\u001b[0m, in \u001b[0;36m<cell line: 1>\u001b[1;34m()\u001b[0m\n\u001b[1;32m----> 1\u001b[0m i \u001b[38;5;241m+\u001b[39m\u001b[38;5;241m=\u001b[39m\u001b[38;5;241m10\u001b[39m\n",
      "\u001b[1;31mNameError\u001b[0m: name 'i' is not defined"
     ]
    }
   ],
   "source": [
    "i +=10"
   ]
  },
  {
   "cell_type": "code",
   "execution_count": 12,
   "id": "1bb7f63b",
   "metadata": {},
   "outputs": [
    {
     "name": "stdout",
     "output_type": "stream",
     "text": [
      "40\n"
     ]
    }
   ],
   "source": [
    "num = 20\n",
    "num += 20\n",
    "print(num)"
   ]
  },
  {
   "cell_type": "code",
   "execution_count": 25,
   "id": "d18c41cc",
   "metadata": {},
   "outputs": [
    {
     "name": "stdout",
     "output_type": "stream",
     "text": [
      "9\n"
     ]
    }
   ],
   "source": [
    "num ^= 1\n",
    "print(num)"
   ]
  },
  {
   "cell_type": "code",
   "execution_count": 26,
   "id": "c6aa0cff",
   "metadata": {},
   "outputs": [
    {
     "name": "stdout",
     "output_type": "stream",
     "text": [
      "6\n"
     ]
    }
   ],
   "source": [
    "num = 256\n",
    "num %= 10\n",
    "print(num)"
   ]
  },
  {
   "cell_type": "code",
   "execution_count": 27,
   "id": "775f5c5c",
   "metadata": {},
   "outputs": [
    {
     "name": "stdout",
     "output_type": "stream",
     "text": [
      "246\n"
     ]
    }
   ],
   "source": [
    "num = 256\n",
    "num -= 10\n",
    "print(num)"
   ]
  },
  {
   "cell_type": "code",
   "execution_count": 28,
   "id": "98039220",
   "metadata": {},
   "outputs": [
    {
     "name": "stdout",
     "output_type": "stream",
     "text": [
      "20\n"
     ]
    }
   ],
   "source": [
    "num = 2\n",
    "num *= 10\n",
    "print(num)"
   ]
  },
  {
   "cell_type": "code",
   "execution_count": 29,
   "id": "4295e88a",
   "metadata": {},
   "outputs": [
    {
     "name": "stdout",
     "output_type": "stream",
     "text": [
      "0.2\n"
     ]
    }
   ],
   "source": [
    "num = 2\n",
    "num /= 10\n",
    "print(num)"
   ]
  },
  {
   "cell_type": "code",
   "execution_count": 31,
   "id": "8a1f1efc",
   "metadata": {},
   "outputs": [
    {
     "name": "stdout",
     "output_type": "stream",
     "text": [
      "1\n"
     ]
    }
   ],
   "source": [
    "num = 1011\n",
    "num ^= 1010\n",
    "print(num)"
   ]
  },
  {
   "cell_type": "code",
   "execution_count": 32,
   "id": "0f1f4a98",
   "metadata": {},
   "outputs": [
    {
     "data": {
      "text/plain": [
       "11"
      ]
     },
     "execution_count": 32,
     "metadata": {},
     "output_type": "execute_result"
    }
   ],
   "source": [
    "7+4"
   ]
  },
  {
   "cell_type": "code",
   "execution_count": 33,
   "id": "9c8450fd",
   "metadata": {},
   "outputs": [
    {
     "data": {
      "text/plain": [
       "3"
      ]
     },
     "execution_count": 33,
     "metadata": {},
     "output_type": "execute_result"
    }
   ],
   "source": [
    "7-4\n"
   ]
  },
  {
   "cell_type": "code",
   "execution_count": 34,
   "id": "059749ef",
   "metadata": {},
   "outputs": [
    {
     "data": {
      "text/plain": [
       "1"
      ]
     },
     "execution_count": 34,
     "metadata": {},
     "output_type": "execute_result"
    }
   ],
   "source": [
    "7//4"
   ]
  },
  {
   "cell_type": "code",
   "execution_count": 35,
   "id": "48da2a01",
   "metadata": {},
   "outputs": [
    {
     "data": {
      "text/plain": [
       "3"
      ]
     },
     "execution_count": 35,
     "metadata": {},
     "output_type": "execute_result"
    }
   ],
   "source": [
    "7%4"
   ]
  },
  {
   "cell_type": "code",
   "execution_count": 36,
   "id": "71655cfc",
   "metadata": {},
   "outputs": [
    {
     "data": {
      "text/plain": [
       "49"
      ]
     },
     "execution_count": 36,
     "metadata": {},
     "output_type": "execute_result"
    }
   ],
   "source": [
    "7**2"
   ]
  },
  {
   "cell_type": "code",
   "execution_count": 38,
   "id": "8c25057e",
   "metadata": {},
   "outputs": [
    {
     "name": "stdout",
     "output_type": "stream",
     "text": [
      "Money Paid: 5000\n",
      "Price of Item: 300\n",
      "Amount of Change:  4700\n",
      "Pieces of 500 won coins:  9\n",
      "Pieces of 100 won coins:  2\n"
     ]
    }
   ],
   "source": [
    "money = int(input(\"Money Paid: \"))\n",
    "price = int(input(\"Price of Item: \"))\n",
    "\n",
    "change = money-price\n",
    "print(\"Amount of Change: \", change)\n",
    "coin500s = change // 500\n",
    "change = change % 500\n",
    "coin100s = change // 100\n",
    "\n",
    "print(\"Pieces of 500 won coins: \", coin500s)\n",
    "print(\"Pieces of 100 won coins: \", coin100s)"
   ]
  },
  {
   "cell_type": "code",
   "execution_count": 39,
   "id": "f7c1c44a",
   "metadata": {},
   "outputs": [
    {
     "ename": "ZeroDivisionError",
     "evalue": "division by zero",
     "output_type": "error",
     "traceback": [
      "\u001b[1;31m---------------------------------------------------------------------------\u001b[0m",
      "\u001b[1;31mZeroDivisionError\u001b[0m                         Traceback (most recent call last)",
      "Input \u001b[1;32mIn [39]\u001b[0m, in \u001b[0;36m<cell line: 3>\u001b[1;34m()\u001b[0m\n\u001b[0;32m      1\u001b[0m num1\u001b[38;5;241m=\u001b[39m \u001b[38;5;241m3\u001b[39m\n\u001b[0;32m      2\u001b[0m num2\u001b[38;5;241m=\u001b[39m \u001b[38;5;241m0\u001b[39m\n\u001b[1;32m----> 3\u001b[0m \u001b[38;5;28mprint\u001b[39m(\u001b[43mnum1\u001b[49m\u001b[38;5;241;43m/\u001b[39;49m\u001b[43mnum2\u001b[49m)\n",
      "\u001b[1;31mZeroDivisionError\u001b[0m: division by zero"
     ]
    }
   ],
   "source": [
    "num1= 3\n",
    "num2= 0\n",
    "print(num1/num2)"
   ]
  },
  {
   "cell_type": "code",
   "execution_count": 43,
   "id": "24590b84",
   "metadata": {},
   "outputs": [
    {
     "name": "stdout",
     "output_type": "stream",
     "text": [
      "Print\"Area of rectangle:  1800\n"
     ]
    }
   ],
   "source": [
    "width = 30\n",
    "height = 60\n",
    "Area = width * height\n",
    "print(\"Print\\\"Area of rectangle: \", Area)\n"
   ]
  },
  {
   "cell_type": "code",
   "execution_count": null,
   "id": "7c4bcb7d",
   "metadata": {},
   "outputs": [],
   "source": []
  },
  {
   "cell_type": "code",
   "execution_count": 49,
   "id": "e3b5deb8",
   "metadata": {},
   "outputs": [
    {
     "name": "stdout",
     "output_type": "stream",
     "text": [
      "Pythagorean value:  13\n"
     ]
    }
   ],
   "source": [
    "a = 2\n",
    "b = 3\n",
    "c = a**2+b**2\n",
    "print(\"Pythagorean value: \",c)"
   ]
  },
  {
   "cell_type": "code",
   "execution_count": 48,
   "id": "ac7b2f60",
   "metadata": {},
   "outputs": [
    {
     "name": "stdout",
     "output_type": "stream",
     "text": [
      "the length of the hypotenuse:  5.0\n"
     ]
    }
   ],
   "source": [
    "a = 3\n",
    "b = 4\n",
    "c = a**2+b**2\n",
    "l = c**0.5\n",
    "print(\"the length of the hypotenuse: \",l)"
   ]
  },
  {
   "cell_type": "code",
   "execution_count": 51,
   "id": "ef5fd5f3",
   "metadata": {},
   "outputs": [
    {
     "name": "stdout",
     "output_type": "stream",
     "text": [
      "Enter Name: Sodana Som\n",
      "Hello! Sodana Som\n",
      "Welcome to the World of Python Programming.\n"
     ]
    }
   ],
   "source": [
    "name = input(\"Enter Name: \")\n",
    "print(\"Hello!\", name)\n",
    "print(\"Welcome to the World of Python Programming.\")"
   ]
  },
  {
   "cell_type": "code",
   "execution_count": 60,
   "id": "f32a1c1a",
   "metadata": {},
   "outputs": [
    {
     "name": "stdout",
     "output_type": "stream",
     "text": [
      "Enter the first integer: 600\n",
      "Enter the second integer: 400\n",
      "the sum of 600 and 400 is 1000\n"
     ]
    }
   ],
   "source": [
    "x = int(input(\"Enter the first integer: \"))\n",
    "y = int(input(\"Enter the second integer: \"))\n",
    "s = x + y\n",
    "print(\"the sum of\" ,x ,\"and\" ,y ,\"is\",s)"
   ]
  },
  {
   "cell_type": "code",
   "execution_count": 61,
   "id": "0047ee8d",
   "metadata": {},
   "outputs": [
    {
     "name": "stdout",
     "output_type": "stream",
     "text": [
      "Enter the first integer: hundred\n"
     ]
    },
    {
     "ename": "ValueError",
     "evalue": "invalid literal for int() with base 10: 'hundred'",
     "output_type": "error",
     "traceback": [
      "\u001b[1;31m---------------------------------------------------------------------------\u001b[0m",
      "\u001b[1;31mValueError\u001b[0m                                Traceback (most recent call last)",
      "Input \u001b[1;32mIn [61]\u001b[0m, in \u001b[0;36m<cell line: 1>\u001b[1;34m()\u001b[0m\n\u001b[1;32m----> 1\u001b[0m x \u001b[38;5;241m=\u001b[39m \u001b[38;5;28;43mint\u001b[39;49m\u001b[43m(\u001b[49m\u001b[38;5;28;43minput\u001b[39;49m\u001b[43m(\u001b[49m\u001b[38;5;124;43m\"\u001b[39;49m\u001b[38;5;124;43mEnter the first integer: \u001b[39;49m\u001b[38;5;124;43m\"\u001b[39;49m\u001b[43m)\u001b[49m\u001b[43m)\u001b[49m\n\u001b[0;32m      2\u001b[0m y \u001b[38;5;241m=\u001b[39m \u001b[38;5;28mint\u001b[39m(\u001b[38;5;28minput\u001b[39m(\u001b[38;5;124m\"\u001b[39m\u001b[38;5;124mEnter the second integer: \u001b[39m\u001b[38;5;124m\"\u001b[39m))\n\u001b[0;32m      3\u001b[0m s \u001b[38;5;241m=\u001b[39m x \u001b[38;5;241m+\u001b[39m y\n",
      "\u001b[1;31mValueError\u001b[0m: invalid literal for int() with base 10: 'hundred'"
     ]
    }
   ],
   "source": [
    "x = int(input(\"Enter the first integer: \"))\n",
    "y = int(input(\"Enter the second integer: \"))\n",
    "s = x + y\n",
    "print(\"the sum of\" ,x ,\"and\" ,y ,\"is\",s)"
   ]
  },
  {
   "cell_type": "code",
   "execution_count": 62,
   "id": "d67e2aa1",
   "metadata": {},
   "outputs": [
    {
     "name": "stdout",
     "output_type": "stream",
     "text": [
      "Enter the first integer: 100\n",
      "input Data Type:  <class 'str'>\n"
     ]
    }
   ],
   "source": [
    "x = input(\"Enter the first integer: \")\n",
    "print('input Data Type: ',type(x))"
   ]
  },
  {
   "cell_type": "code",
   "execution_count": 63,
   "id": "8485177c",
   "metadata": {},
   "outputs": [
    {
     "name": "stdout",
     "output_type": "stream",
     "text": [
      "Enter the first integer: 300\n",
      "input Data Type:  <class 'int'>\n"
     ]
    }
   ],
   "source": [
    "x = int(input(\"Enter the first integer: \"))\n",
    "print('input Data Type: ',type(x))"
   ]
  },
  {
   "cell_type": "code",
   "execution_count": 67,
   "id": "85fc9cd0",
   "metadata": {},
   "outputs": [
    {
     "name": "stdout",
     "output_type": "stream",
     "text": [
      "x: 200\n",
      "input Data Type:  <class 'int'>\n"
     ]
    }
   ],
   "source": [
    "#Let's check whether x is only a number\n",
    "x = input(\"x: \")\n",
    "if x.isdigit() == True :\n",
    "    x = int(x)\n",
    "    print('input Data Type: ', type(x))\n",
    "else: \n",
    "    print('x is not a number type.')"
   ]
  },
  {
   "cell_type": "code",
   "execution_count": 69,
   "id": "c0b26e64",
   "metadata": {},
   "outputs": [
    {
     "name": "stdout",
     "output_type": "stream",
     "text": [
      "x: 50\n"
     ]
    },
    {
     "ename": "AttributeError",
     "evalue": "'int' object has no attribute 'isdigit'",
     "output_type": "error",
     "traceback": [
      "\u001b[1;31m---------------------------------------------------------------------------\u001b[0m",
      "\u001b[1;31mAttributeError\u001b[0m                            Traceback (most recent call last)",
      "Input \u001b[1;32mIn [69]\u001b[0m, in \u001b[0;36m<cell line: 3>\u001b[1;34m()\u001b[0m\n\u001b[0;32m      1\u001b[0m \u001b[38;5;66;03m#Let's check whether x is only a number\u001b[39;00m\n\u001b[0;32m      2\u001b[0m x \u001b[38;5;241m=\u001b[39m \u001b[38;5;28mint\u001b[39m(\u001b[38;5;28minput\u001b[39m(\u001b[38;5;124m\"\u001b[39m\u001b[38;5;124mx: \u001b[39m\u001b[38;5;124m\"\u001b[39m))\n\u001b[1;32m----> 3\u001b[0m \u001b[38;5;28;01mif\u001b[39;00m \u001b[43mx\u001b[49m\u001b[38;5;241;43m.\u001b[39;49m\u001b[43misdigit\u001b[49m() \u001b[38;5;241m==\u001b[39m \u001b[38;5;28;01mTrue\u001b[39;00m :\n\u001b[0;32m      4\u001b[0m     x \u001b[38;5;241m=\u001b[39m \u001b[38;5;28mint\u001b[39m(x)\n\u001b[0;32m      5\u001b[0m     \u001b[38;5;28mprint\u001b[39m(\u001b[38;5;124m'\u001b[39m\u001b[38;5;124minput Data Type: \u001b[39m\u001b[38;5;124m'\u001b[39m, \u001b[38;5;28mtype\u001b[39m(x))\n",
      "\u001b[1;31mAttributeError\u001b[0m: 'int' object has no attribute 'isdigit'"
     ]
    }
   ],
   "source": [
    "#Let's check whether x is only a number\n",
    "x = int(input(\"x: \"))\n",
    "if x.isdigit() == True :\n",
    "    x = int(x)\n",
    "    print('input Data Type: ', type(x))\n",
    "else: \n",
    "    print('x is not a number type.')"
   ]
  },
  {
   "cell_type": "code",
   "execution_count": 70,
   "id": "db868adf",
   "metadata": {},
   "outputs": [
    {
     "name": "stdout",
     "output_type": "stream",
     "text": [
      "x: thank\n",
      "x is not a number type.\n"
     ]
    }
   ],
   "source": [
    "#Let's check whether x is only a number\n",
    "x = input(\"x: \")\n",
    "if x.isdigit() == True :\n",
    "    x = int(x)\n",
    "    print('input Data Type: ', type(x))\n",
    "else: \n",
    "    print('x is not a number type.')"
   ]
  },
  {
   "cell_type": "code",
   "execution_count": null,
   "id": "0a3de646",
   "metadata": {},
   "outputs": [],
   "source": [
    "PI=3.141592 \n",
    "radius = float(input(print(\"Enter the radius of a circle: \")\n",
    "Area = PI*radius*radius\n",
    "print(\"Area of circle: \", Area)\n",
    "Circumference = PI*2*radius\n",
    "print(\"Circumference of circle: \", Circumference)"
   ]
  },
  {
   "cell_type": "code",
   "execution_count": null,
   "id": "fee43914",
   "metadata": {},
   "outputs": [],
   "source": [
    "PI=3.141592 \n",
    "radius = float(input(\"Enter the radius of a circle: \"))\n",
    "Area = PI*radius*radius\n",
    "print(\"Area of circle: \", Area)\n",
    "Circumference = PI*2*radius\n",
    "print(\"Circumference of circle: \", Circumference)"
   ]
  },
  {
   "cell_type": "code",
   "execution_count": 1,
   "id": "b7775f4c",
   "metadata": {},
   "outputs": [
    {
     "name": "stdout",
     "output_type": "stream",
     "text": [
      "Enter the radius of a circle: 6\n",
      "Area of circle:  113.09731200000002\n",
      "Circumference of circle:  37.699104000000005\n"
     ]
    }
   ],
   "source": [
    "PI=3.141592 \n",
    "radius = float(input(\"Enter the radius of a circle: \"))\n",
    "Area = PI*radius*radius\n",
    "print(\"Area of circle: \", Area)\n",
    "Circumference = PI*2*radius\n",
    "print(\"Circumference of circle: \", Circumference)"
   ]
  },
  {
   "cell_type": "code",
   "execution_count": 2,
   "id": "2d0e1fd8",
   "metadata": {},
   "outputs": [
    {
     "name": "stdout",
     "output_type": "stream",
     "text": [
      "Enter a: 2\n",
      "Enter n: 2\n",
      "Answer:  4\n"
     ]
    }
   ],
   "source": [
    "a = int(input(\"Enter a: \"))\n",
    "n = int(input(\"Enter n: \"))\n",
    "b = a**n\n",
    "print(\"Answer: \", b)"
   ]
  },
  {
   "cell_type": "code",
   "execution_count": 4,
   "id": "73c6ed21",
   "metadata": {},
   "outputs": [
    {
     "ename": "TypeError",
     "evalue": "unsupported operand type(s) for ** or pow(): 'tuple' and 'tuple'",
     "output_type": "error",
     "traceback": [
      "\u001b[1;31m---------------------------------------------------------------------------\u001b[0m",
      "\u001b[1;31mTypeError\u001b[0m                                 Traceback (most recent call last)",
      "Input \u001b[1;32mIn [4]\u001b[0m, in \u001b[0;36m<cell line: 3>\u001b[1;34m()\u001b[0m\n\u001b[0;32m      1\u001b[0m a \u001b[38;5;241m=\u001b[39m \u001b[38;5;241m2\u001b[39m, \u001b[38;5;241m3\u001b[39m, \u001b[38;5;241m4\u001b[39m, \u001b[38;5;241m5\u001b[39m, \u001b[38;5;241m6\u001b[39m\n\u001b[0;32m      2\u001b[0m n \u001b[38;5;241m=\u001b[39m \u001b[38;5;241m2\u001b[39m, \u001b[38;5;241m2\u001b[39m, \u001b[38;5;241m2\u001b[39m, \u001b[38;5;241m2\u001b[39m, \u001b[38;5;241m2\u001b[39m\n\u001b[1;32m----> 3\u001b[0m result \u001b[38;5;241m=\u001b[39m \u001b[43ma\u001b[49m\u001b[38;5;241;43m*\u001b[39;49m\u001b[38;5;241;43m*\u001b[39;49m\u001b[43mn\u001b[49m\n\u001b[0;32m      4\u001b[0m \u001b[38;5;28mprint\u001b[39m(\u001b[38;5;124m\"\u001b[39m\u001b[38;5;124mresult: \u001b[39m\u001b[38;5;124m\"\u001b[39m, result)\n",
      "\u001b[1;31mTypeError\u001b[0m: unsupported operand type(s) for ** or pow(): 'tuple' and 'tuple'"
     ]
    }
   ],
   "source": [
    "a = 2, 3, 4, 5, 6\n",
    "n = 2, 2, 2, 2, 2\n",
    "result = a**n\n",
    "print(\"result: \", result)\n"
   ]
  },
  {
   "cell_type": "code",
   "execution_count": 12,
   "id": "0da18530",
   "metadata": {},
   "outputs": [
    {
     "name": "stdout",
     "output_type": "stream",
     "text": [
      "\n",
      "\n"
     ]
    },
    {
     "data": {
      "text/plain": [
       "(3, 2, 9)"
      ]
     },
     "execution_count": 12,
     "metadata": {},
     "output_type": "execute_result"
    }
   ],
   "source": [
    "2, 2, 2**2 \n",
    "print(\"\\n\")\n",
    "3, 2, 3**2"
   ]
  },
  {
   "cell_type": "code",
   "execution_count": 6,
   "id": "c29ae40b",
   "metadata": {},
   "outputs": [
    {
     "data": {
      "text/plain": [
       "(3, 2, 9)"
      ]
     },
     "execution_count": 6,
     "metadata": {},
     "output_type": "execute_result"
    }
   ],
   "source": [
    "3, 2, 3**2"
   ]
  },
  {
   "cell_type": "code",
   "execution_count": 20,
   "id": "80f036e9",
   "metadata": {},
   "outputs": [
    {
     "name": "stdout",
     "output_type": "stream",
     "text": [
      "2 2 4 \n",
      "\n",
      "3 2 9 \n",
      "\n",
      "4 2 16 \n",
      "\n",
      "5 2 25 \n",
      "\n",
      "6 2 36 \n",
      "\n"
     ]
    }
   ],
   "source": [
    "print(2, 2, 2**2, \"\\n\") \n",
    "print(3, 2, 3**2, \"\\n\")\n",
    "print(4, 2, 4**2, \"\\n\")\n",
    "print(5, 2, 5**2, \"\\n\")\n",
    "print(6, 2, 6**2, \"\\n\")"
   ]
  },
  {
   "cell_type": "code",
   "execution_count": 21,
   "id": "152176fe",
   "metadata": {},
   "outputs": [
    {
     "data": {
      "text/plain": [
       "24"
      ]
     },
     "execution_count": 21,
     "metadata": {},
     "output_type": "execute_result"
    }
   ],
   "source": [
    "2024%400"
   ]
  },
  {
   "cell_type": "code",
   "execution_count": 22,
   "id": "c365acbb",
   "metadata": {},
   "outputs": [
    {
     "name": "stdout",
     "output_type": "stream",
     "text": [
      "Enter the year: 2002\n",
      "False\n"
     ]
    }
   ],
   "source": [
    "year = int(input(\"Enter the year: \"))\n",
    "leap_year = (year % 4 == 0 and year % 100 !=0) or year % 400 == 9 \n",
    "print(leap_year)"
   ]
  },
  {
   "cell_type": "code",
   "execution_count": 23,
   "id": "9fa2d24c",
   "metadata": {},
   "outputs": [
    {
     "name": "stdout",
     "output_type": "stream",
     "text": [
      "Enter the year: 2030\n",
      "False\n"
     ]
    }
   ],
   "source": [
    "year = int(input(\"Enter the year: \"))\n",
    "leap_year = (year % 4 == 0 and year % 100 !=0) or year % 400 == 9 \n",
    "print(leap_year)"
   ]
  },
  {
   "cell_type": "code",
   "execution_count": 26,
   "id": "9ce50609",
   "metadata": {},
   "outputs": [
    {
     "name": "stdout",
     "output_type": "stream",
     "text": [
      "Result of 10>5:  True\n",
      "Result of 5>1:  True\n",
      "Result of 5==5:  True\n",
      "Result of 5!=5:  False\n",
      "Result of 'a' > 'b':  False\n"
     ]
    }
   ],
   "source": [
    "print('Result of 10>5: ', 10>5)\n",
    "print('Result of 5>1: ', 5>1)\n",
    "print('Result of 5==5: ', 5==5)\n",
    "print('Result of 5!=5: ', 5!=5)\n",
    "print(\"Result of 'a' > 'b': \",'a'>'b' )"
   ]
  },
  {
   "cell_type": "code",
   "execution_count": 31,
   "id": "b041ab9b",
   "metadata": {},
   "outputs": [
    {
     "name": "stdout",
     "output_type": "stream",
     "text": [
      "True\n",
      "False\n",
      "True\n",
      "False\n",
      "True\n",
      "False\n",
      "False\n",
      "True\n",
      "False\n",
      "True\n",
      "True\n",
      "True\n",
      "True\n"
     ]
    }
   ],
   "source": [
    "print(bool(1))\n",
    "print(bool(0))\n",
    "print(bool(True))\n",
    "print(bool(False))\n",
    "print(bool(-1))\n",
    "print(bool(None))\n",
    "print(bool(''))\n",
    "print(bool('hello'))\n",
    "print(bool([]))\n",
    "print(bool(-2))\n",
    "print(bool([10, 20]))\n",
    "print(bool('10'))\n",
    "print(bool(+2))"
   ]
  },
  {
   "cell_type": "code",
   "execution_count": 35,
   "id": "9d1cff0f",
   "metadata": {},
   "outputs": [
    {
     "name": "stdout",
     "output_type": "stream",
     "text": [
      "False\n",
      "False\n",
      "True\n",
      "True\n",
      "False\n",
      "True\n"
     ]
    }
   ],
   "source": [
    "a=100 \n",
    "b=200\n",
    "print(a==b)\n",
    "print(a>=b)\n",
    "print(a<=b)\n",
    "print(a!=b)\n",
    "print(a>b)\n",
    "print(a<b)"
   ]
  },
  {
   "cell_type": "code",
   "execution_count": 39,
   "id": "d65051d3",
   "metadata": {},
   "outputs": [
    {
     "name": "stdout",
     "output_type": "stream",
     "text": [
      "Enter the integer: 50\n",
      "Is the integer even? 0\n"
     ]
    }
   ],
   "source": [
    "n = int(input('Enter the integer: '))\n",
    "print('Is the integer even?', n%2==0)"
   ]
  },
  {
   "cell_type": "code",
   "execution_count": 42,
   "id": "00645ac7",
   "metadata": {},
   "outputs": [
    {
     "name": "stdout",
     "output_type": "stream",
     "text": [
      "True\n",
      "False\n",
      "False\n",
      "True\n"
     ]
    }
   ],
   "source": [
    "print('aaa'=='aaa')\n",
    "print('aaa'=='bbb')\n",
    "print('aaa'!='aaa')\n",
    "print('aaa'!='bbb')"
   ]
  },
  {
   "cell_type": "code",
   "execution_count": 43,
   "id": "6ff0b819",
   "metadata": {},
   "outputs": [
    {
     "name": "stdout",
     "output_type": "stream",
     "text": [
      "True\n",
      "False\n"
     ]
    }
   ],
   "source": [
    "a = 1\n",
    "b = 1.0\n",
    "print (a==b)\n",
    "print (a is b)"
   ]
  },
  {
   "cell_type": "code",
   "execution_count": 44,
   "id": "59113b32",
   "metadata": {},
   "outputs": [
    {
     "name": "stdout",
     "output_type": "stream",
     "text": [
      "True\n",
      "True\n",
      "False\n"
     ]
    }
   ],
   "source": [
    "print('aaa' in 'aaa-bbb-ccc')\n",
    "print('bbb' in 'aaa-bbb-ccc')\n",
    "print('ddd' in 'aaa-bbb-ccc')"
   ]
  },
  {
   "cell_type": "code",
   "execution_count": 45,
   "id": "bf35b123",
   "metadata": {},
   "outputs": [
    {
     "name": "stdout",
     "output_type": "stream",
     "text": [
      "n = 100\n",
      "n is between 0 and 200.\n"
     ]
    }
   ],
   "source": [
    "n=100\n",
    "print('n =', n)\n",
    "if 0 < n < 200:\n",
    "    print('n is between 0 and 200.')"
   ]
  },
  {
   "cell_type": "code",
   "execution_count": 46,
   "id": "c12f56f5",
   "metadata": {},
   "outputs": [
    {
     "name": "stdout",
     "output_type": "stream",
     "text": [
      "n = 400\n"
     ]
    }
   ],
   "source": [
    "n=400\n",
    "print('n =', n)\n",
    "if 0 < n < 200:\n",
    "    print('n is between 0 and 200.')"
   ]
  },
  {
   "cell_type": "code",
   "execution_count": 47,
   "id": "e2a08ed7",
   "metadata": {},
   "outputs": [
    {
     "name": "stdout",
     "output_type": "stream",
     "text": [
      "n = 4.4\n",
      "n is between 0 and 200.\n"
     ]
    }
   ],
   "source": [
    "n=4.4\n",
    "print('n =', n)\n",
    "if 0 < n < 200:\n",
    "    print('n is between 0 and 200.')"
   ]
  },
  {
   "cell_type": "code",
   "execution_count": 48,
   "id": "93f2c334",
   "metadata": {},
   "outputs": [
    {
     "name": "stdout",
     "output_type": "stream",
     "text": [
      "n = 4.4\n",
      "true\n"
     ]
    }
   ],
   "source": [
    "n=4.4\n",
    "print('n =', n)\n",
    "if 0 < n < 200:\n",
    "    print('true')"
   ]
  },
  {
   "cell_type": "code",
   "execution_count": 49,
   "id": "b39ab32e",
   "metadata": {},
   "outputs": [
    {
     "name": "stdout",
     "output_type": "stream",
     "text": [
      "n = 44000\n"
     ]
    }
   ],
   "source": [
    "n=44000\n",
    "print('n =', n)\n",
    "if 0 < n < 200:\n",
    "    print('true')"
   ]
  },
  {
   "cell_type": "code",
   "execution_count": 50,
   "id": "61c080d1",
   "metadata": {},
   "outputs": [
    {
     "name": "stdout",
     "output_type": "stream",
     "text": [
      "False\n"
     ]
    }
   ],
   "source": [
    "n=400\n",
    "print(0 < n < 200)"
   ]
  },
  {
   "cell_type": "code",
   "execution_count": 51,
   "id": "fc5f7822",
   "metadata": {},
   "outputs": [
    {
     "name": "stdout",
     "output_type": "stream",
     "text": [
      "True\n"
     ]
    }
   ],
   "source": [
    "n=100\n",
    "print(0 < n < 200)"
   ]
  },
  {
   "cell_type": "code",
   "execution_count": 52,
   "id": "34fef718",
   "metadata": {},
   "outputs": [
    {
     "name": "stdout",
     "output_type": "stream",
     "text": [
      "False\n",
      "True\n",
      "False\n",
      "True\n"
     ]
    }
   ],
   "source": [
    "x = True\n",
    "y = False\n",
    "print(x and y)\n",
    "print(x or y)\n",
    "print(not x)\n",
    "print(not y)\n"
   ]
  },
  {
   "cell_type": "code",
   "execution_count": 53,
   "id": "e5ea8b58",
   "metadata": {},
   "outputs": [
    {
     "name": "stdout",
     "output_type": "stream",
     "text": [
      "Enter an integer: 99\n",
      "Is the input and even integer between 0 and 100? False\n"
     ]
    }
   ],
   "source": [
    "num= int(input('Enter an integer: '))\n",
    "result = (num >=0 and num <=100 and num % 2 == 0)\n",
    "print('Is the input and even integer between 0 and 100?', result)"
   ]
  },
  {
   "cell_type": "code",
   "execution_count": 54,
   "id": "9f405945",
   "metadata": {},
   "outputs": [
    {
     "name": "stdout",
     "output_type": "stream",
     "text": [
      "Enter an integer: 99\n",
      "Is the input and even integer between 0 and 100? True\n"
     ]
    }
   ],
   "source": [
    "num= int(input('Enter an integer: '))\n",
    "result = (num >=0 or num <=100 or num % 2 == 0)\n",
    "print('Is the input and even integer between 0 and 100?', result)"
   ]
  },
  {
   "cell_type": "code",
   "execution_count": 61,
   "id": "0c8b2ac5",
   "metadata": {},
   "outputs": [
    {
     "name": "stdout",
     "output_type": "stream",
     "text": [
      "Enter an integer: 31\n",
      "Is the integer even? True\n"
     ]
    }
   ],
   "source": [
    "num=int(input(\"Enter an integer: \"))\n",
    "if num%2==0:\n",
    "    print(\"Is the integer odd?\", num %2 !=0 )\n",
    "else:\n",
    "    print(\"Is the integer even?\", num %2 !=0 )\n"
   ]
  },
  {
   "cell_type": "code",
   "execution_count": 62,
   "id": "d67cd93f",
   "metadata": {},
   "outputs": [
    {
     "name": "stdout",
     "output_type": "stream",
     "text": [
      "Enter an integer: 20\n",
      "Is the integer odd? False\n"
     ]
    }
   ],
   "source": [
    "num=int(input(\"Enter an integer: \"))\n",
    "if num%2==0:\n",
    "    print(\"Is the integer odd?\", num %2 !=0 )\n",
    "else:\n",
    "    print(\"Is the integer even?\", num %2 !=0 )\n",
    "    "
   ]
  },
  {
   "cell_type": "code",
   "execution_count": 63,
   "id": "7b8b50d3",
   "metadata": {},
   "outputs": [
    {
     "name": "stdout",
     "output_type": "stream",
     "text": [
      "Enter an integer: 21\n",
      "Is the integer even? True\n"
     ]
    }
   ],
   "source": [
    "num=int(input(\"Enter an integer: \"))\n",
    "if num%2==0:\n",
    "    print(\"Is the integer odd?\", num %2 !=0 )\n",
    "else:\n",
    "    print(\"Is the integer even?\", num %2 !=0 )"
   ]
  },
  {
   "cell_type": "code",
   "execution_count": null,
   "id": "208b49e6",
   "metadata": {},
   "outputs": [],
   "source": []
  },
  {
   "cell_type": "code",
   "execution_count": 78,
   "id": "74684780",
   "metadata": {},
   "outputs": [
    {
     "name": "stdout",
     "output_type": "stream",
     "text": [
      "Enter an integer: 321\n",
      "False\n"
     ]
    }
   ],
   "source": [
    "num=int(input(\"Enter an integer: \"))\n",
    "print(num//3==1)"
   ]
  },
  {
   "cell_type": "code",
   "execution_count": null,
   "id": "2db85c4e",
   "metadata": {},
   "outputs": [],
   "source": []
  },
  {
   "cell_type": "code",
   "execution_count": 79,
   "id": "3e73e221",
   "metadata": {},
   "outputs": [
    {
     "name": "stdout",
     "output_type": "stream",
     "text": [
      "Enter an integer: 321\n",
      "False\n"
     ]
    }
   ],
   "source": [
    "num=int(input(\"Enter an integer: \"))\n",
    "print(num//3==1)"
   ]
  },
  {
   "cell_type": "code",
   "execution_count": null,
   "id": "33a725f7",
   "metadata": {},
   "outputs": [],
   "source": []
  }
 ],
 "metadata": {
  "kernelspec": {
   "display_name": "Python 3 (ipykernel)",
   "language": "python",
   "name": "python3"
  },
  "language_info": {
   "codemirror_mode": {
    "name": "ipython",
    "version": 3
   },
   "file_extension": ".py",
   "mimetype": "text/x-python",
   "name": "python",
   "nbconvert_exporter": "python",
   "pygments_lexer": "ipython3",
   "version": "3.9.12"
  }
 },
 "nbformat": 4,
 "nbformat_minor": 5
}
